{
 "cells": [
  {
   "cell_type": "markdown",
   "metadata": {},
   "source": [
    "# Analyse de règles d'association dans un magasin agroalimentaire\n",
    "---\n",
    "\n",
    "## Table des matières\n",
    "\n",
    "1. [Contexte et objectifs](#1-contexte-et-objectifs)\n",
    "2. [Formulation du problème](#2-formulation-du-problème)\n",
    "3. [Chargement et exploration des données](#3-chargement-et-exploration-des-données)\n",
    "4. [Application de l'algorithme Apriori](#4-application-de-lalgorithme-apriori)\n",
    "5. [Application de l'algorithme FP-Growth](#5-application-de-lalgorithme-fp-growth)\n",
    "6. [Comparaison des algorithmes](#6-comparaison-des-algorithmes)\n",
    "7. [Interprétation et recommandations](#7-interprétation-et-recommandations)\n",
    "8. [Conclusion](#8-conclusion)"
   ]
  },
  {
   "cell_type": "markdown",
   "metadata": {},
   "source": [
    "## **1. Contexte et objectifs**\n",
    "\n",
    "### Contexte\n",
    "\n",
    "Un magasin agroalimentaire souhaite optimiser l'attribution de promotions sur ses produits alimentaires. L'objectif est de mieux comprendre les habitudes d'achat des clients, en identifiant les produits qui sont fréquemment achetés ensemble.\n",
    "\n",
    "### Objectifs pédagogiques\n",
    "\n",
    "- Découvrir et manipuler les techniques de fouille de règles d'association\n",
    "- Comprendre les notions de **support**, **confiance** et **lift**\n",
    "- Comparer deux algorithmes populaires : **Apriori** et **FP-Growth**\n",
    "- Interpréter les règles obtenues et formuler des recommandations marketing"
   ]
  },
  {
   "cell_type": "markdown",
   "metadata": {},
   "source": [
    "## **2. Formulation du problème**\n",
    "\n",
    "### Définition du problème\n",
    "\n",
    "Le problème :\n",
    "\n",
    "> **\"Trouver des ensembles de produits fréquemment achetés ensemble, et identifier les règles qui permettent de prédire l'achat d'un produit à partir de la présence d'autres produits dans le panier.\"**\n",
    "\n",
    "### Représentation des données\n",
    "\n",
    "Les tickets de caisse du magasin sont représentés sous forme de **transactions**, où chaque transaction correspond à un panier d'achat contenant un ensemble de produits.\n",
    "\n",
    "**Exemple de transaction :**\n",
    "```\n",
    "Transaction 1: {pain, fromage, vin}\n",
    "Transaction 2: {lait, céréales, jus}\n",
    "```\n",
    "\n",
    "### Règles d'association\n",
    "\n",
    "Une règle d'association a la forme : **A --> B**\n",
    "\n",
    "- **A** (antécédent) : produit(s) déjà dans le panier\n",
    "- **B** (conséquent) : produit(s) dont l'achat est prédit\n",
    "\n",
    "**Exemple :** `{pain, fromage} --> {vin}`\n",
    "\n",
    "Cette règle signifie : \"Si un client achète du pain et du fromage, il est probable qu'il achète aussi du vin.\"\n",
    "\n",
    "### Métriques d'évaluation\n",
    "\n",
    "1. **Support** : Fréquence d'apparition des éléments ensemble\n",
    "   - High support = combinaison fréquente\n",
    "   - `Support(A --> B) = P(A ∪ B) = nombre de transactions contenant A et B / nombre total de transactions`\n",
    "   - Ex.: Si 20 transactions sur 100 contiennent `{pain, beurre}`, le support est de 20% = 0,2.\n",
    "   \n",
    "2. **Confiance** : Probabilité que B apparaisse sachant que A est présent\n",
    "   - Dans quelle mesure cette règle est-elle fiable ? « Lorsque le produit A est acheté, à quelle fréquence le produit B est-il également acheté ? »\n",
    "   - `Confiance(A --> B) = P(B|A) = Support(A ∪ B) / Support(A)`\n",
    "   - Ex.: Si 80 % des personnes qui achètent du pain achètent aussi du beurre, le taux de confiance est de 0,8.\n",
    "\n",
    "3. **Lift** : Force de l'association entre A et B\n",
    "   - Cette association est-elle significative ou simplement aléatoire ?\n",
    "   - `Lift(A --> B) = Confiance(A --> B) / Support(B)`\n",
    "   - Lift > 1 : corrélation positive (association intéressante)\n",
    "   - Lift = 1 : pas de corrélation\n",
    "   - Lift < 1 : corrélation négative"
   ]
  },
  {
   "cell_type": "markdown",
   "metadata": {},
   "source": [
    "## **3. Chargement et exploration des données**\n",
    "\n",
    "### Import des bibliothèques"
   ]
  },
  {
   "cell_type": "code",
   "execution_count": 1,
   "metadata": {},
   "outputs": [],
   "source": [
    "import pandas as pd\n",
    "import numpy as np\n",
    "import matplotlib.pyplot as plt\n",
    "import plotly.graph_objects as go\n",
    "import plotly.express as px\n",
    "import seaborn as sns\n",
    "import warnings\n",
    "warnings.filterwarnings('ignore')\n",
    "\n",
    "# Configure matplotlib for French display\n",
    "plt.rcParams['figure.figsize'] = (12, 8)\n",
    "plt.rcParams['font.size'] = 10\n",
    "sns.set_style(\"whitegrid\")"
   ]
  },
  {
   "cell_type": "code",
   "execution_count": 2,
   "metadata": {},
   "outputs": [],
   "source": [
    "# Import my functions\n",
    "import association_rules as ar"
   ]
  },
  {
   "cell_type": "markdown",
   "metadata": {},
   "source": [
    "### Chargement des données"
   ]
  },
  {
   "cell_type": "code",
   "execution_count": 3,
   "metadata": {},
   "outputs": [
    {
     "name": "stdout",
     "output_type": "stream",
     "text": [
      "✓ Données chargées et préparées avec succès\n"
     ]
    }
   ],
   "source": [
    "# Load and prepare data\n",
    "filepath = 'transactions_promos.csv'\n",
    "df_encoded, transactions = ar.load_and_prepare_data(filepath)\n",
    "\n",
    "print(\"✓ Données chargées et préparées avec succès\")"
   ]
  },
  {
   "cell_type": "markdown",
   "metadata": {},
   "source": [
    "### Exploration des données"
   ]
  },
  {
   "cell_type": "code",
   "execution_count": 4,
   "metadata": {},
   "outputs": [
    {
     "name": "stdout",
     "output_type": "stream",
     "text": [
      "============================================================\n",
      "INFORMATIONS SUR LES DONNÉES\n",
      "============================================================\n",
      "Nombre total de transactions : 40\n",
      "Nombre total de produits uniques : 44\n",
      "\n",
      "Premières transactions :\n",
      "  Transaction 1: bread, butter, milk, eggs\n",
      "  Transaction 2: bread, butter, jam\n",
      "  Transaction 3: bread, milk, cereal\n",
      "  Transaction 4: milk, cereal, banana\n",
      "  Transaction 5: bread, cheese, tomato\n",
      "\n",
      "============================================================\n",
      "\n"
     ]
    }
   ],
   "source": [
    "# Display basic information about the dataset\n",
    "ar.display_data_info(df_encoded, transactions)"
   ]
  },
  {
   "cell_type": "markdown",
   "metadata": {},
   "source": [
    "### Fréquence des produits individuels"
   ]
  },
  {
   "cell_type": "code",
   "execution_count": 5,
   "metadata": {},
   "outputs": [
    {
     "name": "stdout",
     "output_type": "stream",
     "text": [
      "============================================================\n",
      "FRÉQUENCE DES PRODUITS INDIVIDUELS\n",
      "============================================================\n",
      "     Produit  Fréquence  Support\n",
      "       bread          9    0.225\n",
      "        milk          9    0.225\n",
      "      butter          6    0.150\n",
      "    biscuits          5    0.125\n",
      "       pasta          5    0.125\n",
      "      cheese          5    0.125\n",
      "      banana          4    0.100\n",
      "        rice          4    0.100\n",
      "      coffee          4    0.100\n",
      "        eggs          4    0.100\n",
      "         tea          4    0.100\n",
      "       sugar          4    0.100\n",
      "tomato_sauce          4    0.100\n",
      "      tomato          4    0.100\n",
      "      yogurt          3    0.075\n",
      "============================================================\n"
     ]
    }
   ],
   "source": [
    "# Get item frequencies\n",
    "item_freq = ar.get_item_frequencies(df_encoded)\n",
    "\n",
    "print(\"=\" * 60)\n",
    "print(\"FRÉQUENCE DES PRODUITS INDIVIDUELS\")\n",
    "print(\"=\" * 60)\n",
    "print(item_freq.head(15).to_string(index=False))\n",
    "print(\"=\" * 60)"
   ]
  },
  {
   "cell_type": "markdown",
   "metadata": {},
   "source": [
    "### Visualisation des produits les plus fréquents"
   ]
  },
  {
   "cell_type": "code",
   "execution_count": 6,
   "metadata": {},
   "outputs": [
    {
     "data": {
      "application/vnd.plotly.v1+json": {
       "config": {
        "plotlyServerURL": "https://plot.ly"
       },
       "data": [
        {
         "hovertemplate": "Support=%{text}<br>Produit=%{y}<extra></extra>",
         "legendgroup": "",
         "marker": {
          "color": "lightsteelblue",
          "pattern": {
           "shape": ""
          }
         },
         "name": "",
         "orientation": "h",
         "showlegend": false,
         "text": {
          "bdata": "zczMzMzMzD/NzMzMzMzMPzMzMzMzM8M/AAAAAAAAwD8AAAAAAADAPwAAAAAAAMA/mpmZmZmZuT+amZmZmZm5P5qZmZmZmbk/mpmZmZmZuT+amZmZmZm5P5qZmZmZmbk/mpmZmZmZuT+amZmZmZm5PzMzMzMzM7M/",
          "dtype": "f8"
         },
         "textposition": "auto",
         "texttemplate": "%{text:.2%}",
         "type": "bar",
         "x": {
          "bdata": "zczMzMzMzD/NzMzMzMzMPzMzMzMzM8M/AAAAAAAAwD8AAAAAAADAPwAAAAAAAMA/mpmZmZmZuT+amZmZmZm5P5qZmZmZmbk/mpmZmZmZuT+amZmZmZm5P5qZmZmZmbk/mpmZmZmZuT+amZmZmZm5PzMzMzMzM7M/",
          "dtype": "f8"
         },
         "xaxis": "x",
         "y": [
          "bread",
          "milk",
          "butter",
          "biscuits",
          "pasta",
          "cheese",
          "banana",
          "rice",
          "coffee",
          "eggs",
          "tea",
          "sugar",
          "tomato_sauce",
          "tomato",
          "yogurt"
         ],
         "yaxis": "y"
        }
       ],
       "layout": {
        "barmode": "relative",
        "height": 600,
        "legend": {
         "tracegroupgap": 0
        },
        "template": {
         "data": {
          "bar": [
           {
            "error_x": {
             "color": "#2a3f5f"
            },
            "error_y": {
             "color": "#2a3f5f"
            },
            "marker": {
             "line": {
              "color": "white",
              "width": 0.5
             },
             "pattern": {
              "fillmode": "overlay",
              "size": 10,
              "solidity": 0.2
             }
            },
            "type": "bar"
           }
          ],
          "barpolar": [
           {
            "marker": {
             "line": {
              "color": "white",
              "width": 0.5
             },
             "pattern": {
              "fillmode": "overlay",
              "size": 10,
              "solidity": 0.2
             }
            },
            "type": "barpolar"
           }
          ],
          "carpet": [
           {
            "aaxis": {
             "endlinecolor": "#2a3f5f",
             "gridcolor": "#C8D4E3",
             "linecolor": "#C8D4E3",
             "minorgridcolor": "#C8D4E3",
             "startlinecolor": "#2a3f5f"
            },
            "baxis": {
             "endlinecolor": "#2a3f5f",
             "gridcolor": "#C8D4E3",
             "linecolor": "#C8D4E3",
             "minorgridcolor": "#C8D4E3",
             "startlinecolor": "#2a3f5f"
            },
            "type": "carpet"
           }
          ],
          "choropleth": [
           {
            "colorbar": {
             "outlinewidth": 0,
             "ticks": ""
            },
            "type": "choropleth"
           }
          ],
          "contour": [
           {
            "colorbar": {
             "outlinewidth": 0,
             "ticks": ""
            },
            "colorscale": [
             [
              0,
              "#0d0887"
             ],
             [
              0.1111111111111111,
              "#46039f"
             ],
             [
              0.2222222222222222,
              "#7201a8"
             ],
             [
              0.3333333333333333,
              "#9c179e"
             ],
             [
              0.4444444444444444,
              "#bd3786"
             ],
             [
              0.5555555555555556,
              "#d8576b"
             ],
             [
              0.6666666666666666,
              "#ed7953"
             ],
             [
              0.7777777777777778,
              "#fb9f3a"
             ],
             [
              0.8888888888888888,
              "#fdca26"
             ],
             [
              1,
              "#f0f921"
             ]
            ],
            "type": "contour"
           }
          ],
          "contourcarpet": [
           {
            "colorbar": {
             "outlinewidth": 0,
             "ticks": ""
            },
            "type": "contourcarpet"
           }
          ],
          "heatmap": [
           {
            "colorbar": {
             "outlinewidth": 0,
             "ticks": ""
            },
            "colorscale": [
             [
              0,
              "#0d0887"
             ],
             [
              0.1111111111111111,
              "#46039f"
             ],
             [
              0.2222222222222222,
              "#7201a8"
             ],
             [
              0.3333333333333333,
              "#9c179e"
             ],
             [
              0.4444444444444444,
              "#bd3786"
             ],
             [
              0.5555555555555556,
              "#d8576b"
             ],
             [
              0.6666666666666666,
              "#ed7953"
             ],
             [
              0.7777777777777778,
              "#fb9f3a"
             ],
             [
              0.8888888888888888,
              "#fdca26"
             ],
             [
              1,
              "#f0f921"
             ]
            ],
            "type": "heatmap"
           }
          ],
          "histogram": [
           {
            "marker": {
             "pattern": {
              "fillmode": "overlay",
              "size": 10,
              "solidity": 0.2
             }
            },
            "type": "histogram"
           }
          ],
          "histogram2d": [
           {
            "colorbar": {
             "outlinewidth": 0,
             "ticks": ""
            },
            "colorscale": [
             [
              0,
              "#0d0887"
             ],
             [
              0.1111111111111111,
              "#46039f"
             ],
             [
              0.2222222222222222,
              "#7201a8"
             ],
             [
              0.3333333333333333,
              "#9c179e"
             ],
             [
              0.4444444444444444,
              "#bd3786"
             ],
             [
              0.5555555555555556,
              "#d8576b"
             ],
             [
              0.6666666666666666,
              "#ed7953"
             ],
             [
              0.7777777777777778,
              "#fb9f3a"
             ],
             [
              0.8888888888888888,
              "#fdca26"
             ],
             [
              1,
              "#f0f921"
             ]
            ],
            "type": "histogram2d"
           }
          ],
          "histogram2dcontour": [
           {
            "colorbar": {
             "outlinewidth": 0,
             "ticks": ""
            },
            "colorscale": [
             [
              0,
              "#0d0887"
             ],
             [
              0.1111111111111111,
              "#46039f"
             ],
             [
              0.2222222222222222,
              "#7201a8"
             ],
             [
              0.3333333333333333,
              "#9c179e"
             ],
             [
              0.4444444444444444,
              "#bd3786"
             ],
             [
              0.5555555555555556,
              "#d8576b"
             ],
             [
              0.6666666666666666,
              "#ed7953"
             ],
             [
              0.7777777777777778,
              "#fb9f3a"
             ],
             [
              0.8888888888888888,
              "#fdca26"
             ],
             [
              1,
              "#f0f921"
             ]
            ],
            "type": "histogram2dcontour"
           }
          ],
          "mesh3d": [
           {
            "colorbar": {
             "outlinewidth": 0,
             "ticks": ""
            },
            "type": "mesh3d"
           }
          ],
          "parcoords": [
           {
            "line": {
             "colorbar": {
              "outlinewidth": 0,
              "ticks": ""
             }
            },
            "type": "parcoords"
           }
          ],
          "pie": [
           {
            "automargin": true,
            "type": "pie"
           }
          ],
          "scatter": [
           {
            "fillpattern": {
             "fillmode": "overlay",
             "size": 10,
             "solidity": 0.2
            },
            "type": "scatter"
           }
          ],
          "scatter3d": [
           {
            "line": {
             "colorbar": {
              "outlinewidth": 0,
              "ticks": ""
             }
            },
            "marker": {
             "colorbar": {
              "outlinewidth": 0,
              "ticks": ""
             }
            },
            "type": "scatter3d"
           }
          ],
          "scattercarpet": [
           {
            "marker": {
             "colorbar": {
              "outlinewidth": 0,
              "ticks": ""
             }
            },
            "type": "scattercarpet"
           }
          ],
          "scattergeo": [
           {
            "marker": {
             "colorbar": {
              "outlinewidth": 0,
              "ticks": ""
             }
            },
            "type": "scattergeo"
           }
          ],
          "scattergl": [
           {
            "marker": {
             "colorbar": {
              "outlinewidth": 0,
              "ticks": ""
             }
            },
            "type": "scattergl"
           }
          ],
          "scattermap": [
           {
            "marker": {
             "colorbar": {
              "outlinewidth": 0,
              "ticks": ""
             }
            },
            "type": "scattermap"
           }
          ],
          "scattermapbox": [
           {
            "marker": {
             "colorbar": {
              "outlinewidth": 0,
              "ticks": ""
             }
            },
            "type": "scattermapbox"
           }
          ],
          "scatterpolar": [
           {
            "marker": {
             "colorbar": {
              "outlinewidth": 0,
              "ticks": ""
             }
            },
            "type": "scatterpolar"
           }
          ],
          "scatterpolargl": [
           {
            "marker": {
             "colorbar": {
              "outlinewidth": 0,
              "ticks": ""
             }
            },
            "type": "scatterpolargl"
           }
          ],
          "scatterternary": [
           {
            "marker": {
             "colorbar": {
              "outlinewidth": 0,
              "ticks": ""
             }
            },
            "type": "scatterternary"
           }
          ],
          "surface": [
           {
            "colorbar": {
             "outlinewidth": 0,
             "ticks": ""
            },
            "colorscale": [
             [
              0,
              "#0d0887"
             ],
             [
              0.1111111111111111,
              "#46039f"
             ],
             [
              0.2222222222222222,
              "#7201a8"
             ],
             [
              0.3333333333333333,
              "#9c179e"
             ],
             [
              0.4444444444444444,
              "#bd3786"
             ],
             [
              0.5555555555555556,
              "#d8576b"
             ],
             [
              0.6666666666666666,
              "#ed7953"
             ],
             [
              0.7777777777777778,
              "#fb9f3a"
             ],
             [
              0.8888888888888888,
              "#fdca26"
             ],
             [
              1,
              "#f0f921"
             ]
            ],
            "type": "surface"
           }
          ],
          "table": [
           {
            "cells": {
             "fill": {
              "color": "#EBF0F8"
             },
             "line": {
              "color": "white"
             }
            },
            "header": {
             "fill": {
              "color": "#C8D4E3"
             },
             "line": {
              "color": "white"
             }
            },
            "type": "table"
           }
          ]
         },
         "layout": {
          "annotationdefaults": {
           "arrowcolor": "#2a3f5f",
           "arrowhead": 0,
           "arrowwidth": 1
          },
          "autotypenumbers": "strict",
          "coloraxis": {
           "colorbar": {
            "outlinewidth": 0,
            "ticks": ""
           }
          },
          "colorscale": {
           "diverging": [
            [
             0,
             "#8e0152"
            ],
            [
             0.1,
             "#c51b7d"
            ],
            [
             0.2,
             "#de77ae"
            ],
            [
             0.3,
             "#f1b6da"
            ],
            [
             0.4,
             "#fde0ef"
            ],
            [
             0.5,
             "#f7f7f7"
            ],
            [
             0.6,
             "#e6f5d0"
            ],
            [
             0.7,
             "#b8e186"
            ],
            [
             0.8,
             "#7fbc41"
            ],
            [
             0.9,
             "#4d9221"
            ],
            [
             1,
             "#276419"
            ]
           ],
           "sequential": [
            [
             0,
             "#0d0887"
            ],
            [
             0.1111111111111111,
             "#46039f"
            ],
            [
             0.2222222222222222,
             "#7201a8"
            ],
            [
             0.3333333333333333,
             "#9c179e"
            ],
            [
             0.4444444444444444,
             "#bd3786"
            ],
            [
             0.5555555555555556,
             "#d8576b"
            ],
            [
             0.6666666666666666,
             "#ed7953"
            ],
            [
             0.7777777777777778,
             "#fb9f3a"
            ],
            [
             0.8888888888888888,
             "#fdca26"
            ],
            [
             1,
             "#f0f921"
            ]
           ],
           "sequentialminus": [
            [
             0,
             "#0d0887"
            ],
            [
             0.1111111111111111,
             "#46039f"
            ],
            [
             0.2222222222222222,
             "#7201a8"
            ],
            [
             0.3333333333333333,
             "#9c179e"
            ],
            [
             0.4444444444444444,
             "#bd3786"
            ],
            [
             0.5555555555555556,
             "#d8576b"
            ],
            [
             0.6666666666666666,
             "#ed7953"
            ],
            [
             0.7777777777777778,
             "#fb9f3a"
            ],
            [
             0.8888888888888888,
             "#fdca26"
            ],
            [
             1,
             "#f0f921"
            ]
           ]
          },
          "colorway": [
           "#636efa",
           "#EF553B",
           "#00cc96",
           "#ab63fa",
           "#FFA15A",
           "#19d3f3",
           "#FF6692",
           "#B6E880",
           "#FF97FF",
           "#FECB52"
          ],
          "font": {
           "color": "#2a3f5f"
          },
          "geo": {
           "bgcolor": "white",
           "lakecolor": "white",
           "landcolor": "white",
           "showlakes": true,
           "showland": true,
           "subunitcolor": "#C8D4E3"
          },
          "hoverlabel": {
           "align": "left"
          },
          "hovermode": "closest",
          "mapbox": {
           "style": "light"
          },
          "paper_bgcolor": "white",
          "plot_bgcolor": "white",
          "polar": {
           "angularaxis": {
            "gridcolor": "#EBF0F8",
            "linecolor": "#EBF0F8",
            "ticks": ""
           },
           "bgcolor": "white",
           "radialaxis": {
            "gridcolor": "#EBF0F8",
            "linecolor": "#EBF0F8",
            "ticks": ""
           }
          },
          "scene": {
           "xaxis": {
            "backgroundcolor": "white",
            "gridcolor": "#DFE8F3",
            "gridwidth": 2,
            "linecolor": "#EBF0F8",
            "showbackground": true,
            "ticks": "",
            "zerolinecolor": "#EBF0F8"
           },
           "yaxis": {
            "backgroundcolor": "white",
            "gridcolor": "#DFE8F3",
            "gridwidth": 2,
            "linecolor": "#EBF0F8",
            "showbackground": true,
            "ticks": "",
            "zerolinecolor": "#EBF0F8"
           },
           "zaxis": {
            "backgroundcolor": "white",
            "gridcolor": "#DFE8F3",
            "gridwidth": 2,
            "linecolor": "#EBF0F8",
            "showbackground": true,
            "ticks": "",
            "zerolinecolor": "#EBF0F8"
           }
          },
          "shapedefaults": {
           "line": {
            "color": "#2a3f5f"
           }
          },
          "ternary": {
           "aaxis": {
            "gridcolor": "#DFE8F3",
            "linecolor": "#A2B1C6",
            "ticks": ""
           },
           "baxis": {
            "gridcolor": "#DFE8F3",
            "linecolor": "#A2B1C6",
            "ticks": ""
           },
           "bgcolor": "white",
           "caxis": {
            "gridcolor": "#DFE8F3",
            "linecolor": "#A2B1C6",
            "ticks": ""
           }
          },
          "title": {
           "x": 0.05
          },
          "xaxis": {
           "automargin": true,
           "gridcolor": "#EBF0F8",
           "linecolor": "#EBF0F8",
           "ticks": "",
           "title": {
            "standoff": 15
           },
           "zerolinecolor": "#EBF0F8",
           "zerolinewidth": 2
          },
          "yaxis": {
           "automargin": true,
           "gridcolor": "#EBF0F8",
           "linecolor": "#EBF0F8",
           "ticks": "",
           "title": {
            "standoff": 15
           },
           "zerolinecolor": "#EBF0F8",
           "zerolinewidth": 2
          }
         }
        },
        "title": {
         "font": {
          "size": 18
         },
         "text": "Top 15 Produits les Plus Fréquents",
         "x": 0.5
        },
        "xaxis": {
         "anchor": "y",
         "domain": [
          0,
          1
         ],
         "title": {
          "text": "Support"
         }
        },
        "yaxis": {
         "anchor": "x",
         "categoryorder": "total ascending",
         "domain": [
          0,
          1
         ],
         "title": {
          "text": "Produit"
         }
        }
       }
      }
     },
     "metadata": {},
     "output_type": "display_data"
    }
   ],
   "source": [
    "# Visualize top products\n",
    "def frequent_products(top_products: pd.DataFrame):\n",
    "    \"\"\"\n",
    "    Plot frequent products.\n",
    "    \n",
    "    Args:\n",
    "        top_products: Dataframe with the frequency of each individual product\n",
    "    \"\"\"\n",
    "    fig = px.bar(\n",
    "        top_products, \n",
    "        x='Support', \n",
    "        y='Produit',\n",
    "        orientation='h',\n",
    "        title='Top 15 Produits les Plus Fréquents',\n",
    "        text='Support'\n",
    "    )\n",
    "\n",
    "    fig.update_traces(\n",
    "        marker_color='lightsteelblue',\n",
    "        texttemplate='%{text:.2%}',\n",
    "    )\n",
    "\n",
    "    fig.update_layout(\n",
    "        height=600,\n",
    "        title_font_size=18,\n",
    "        title_x=0.5,  ## to the middle\n",
    "        xaxis_title='Support',\n",
    "        yaxis_title='Produit',\n",
    "        yaxis={'categoryorder':'total ascending'},\n",
    "        template='plotly_white',\n",
    "    )\n",
    "\n",
    "    fig.show()\n",
    "\n",
    "top_products = item_freq.head(15)\n",
    "frequent_products(top_products)"
   ]
  },
  {
   "cell_type": "markdown",
   "metadata": {},
   "source": [
    "#### **Observations:** \n",
    "\n",
    "**Produits dominants :**\n",
    "- Le lait et le pain ont un support exceptionnellement élevé (22,5%) comparé à tous les autres produits de la liste, apparaissant dans environ 1 transaction sur 4 (9 transactions sur 40)\n",
    "- Ce sont des produits essentiels du quotidien\n",
    "\n",
    "**Produits moins fréquents :**\n",
    "- Le beurre avec 15% de support\n",
    "- Le fromage, les pâtes et les biscuits avec 12,50% de support - apparaissant dans environ 1 transaction sur 8 (5 transactions sur 40)\n",
    "\n",
    "**Insights :**\n",
    "- Le top 15 des produits ne contient aucun article hautement spécialisé ou de niche\n",
    "- La plupart des produits sont des ingrédients pour des repas de base :\n",
    "  - **Pâtisserie :** farine, beurre, sucre, oeufs, lait\n",
    "  - **Repas froids :** pain, beurre, fromage, tomate, oeufs\n",
    "  - **Moment goûter :** café, thé, biscuits, yaourt, sucre, banane, lait\n",
    "  - **Bases culinaires :** lait, beurre, fromage, pâtes, sauce tomate, oeufs, riz\n",
    "\n",
    "#### Implications / Hypothèses sur les règles d'association\n",
    "\n",
    "- Le seuil de support devra être fixé en dessous de 20%, car seulement 2 produits ont des scores de support individuels dépassant 20%. Par conséquent, il est peu probable que les combinaisons de produits atteignent un support supérieur aux produits individuels.\n",
    "- Les règles impliquant le lait et le pain auront probablement des scores de support élevés.\n",
    "- Il sera intéressant d'explorer les associations au sein des groupements d'ingrédients mentionnés ci-dessus (repas froids, moment goûter, bases culinaires/pâtisserie)."
   ]
  },
  {
   "cell_type": "markdown",
   "metadata": {},
   "source": [
    "## **4. Application de l'algorithme Apriori**\n",
    "\n",
    "### Principe de l'algorithme Apriori\n",
    "\n",
    "L'algorithme **Apriori** utilise une approche itérative pour découvrir les ensembles fréquents :\n",
    "1. Trouver tous les 1-itemsets fréquents (produits individuels)\n",
    "2. Générer les candidats 2-itemsets à partir des 1-itemsets\n",
    "3. Calculer le support des candidats et filtrer\n",
    "4. Répéter pour les 3-itemsets, 4-itemsets, etc.\n",
    "\n",
    "**Propriété clé :** Si un itemset est infrequent, tous ses sur-ensembles sont aussi infrequents.\n",
    "\n",
    "### Définition des seuils\n",
    "\n",
    "La meilleure pratique pour déterminer les seuils de support et de confiance consiste à consulter des experts du domaine et à appliquer des valeurs qui ont du sens dans le contexte métier spécifique. Cependant, en l'absence d'expertise sectorielle, j'adopte une approche systématique pour identifier les seuils optimaux : la **recherche par grille (grid search)**.\n",
    "\n",
    "#### Objectifs de l'optimisation\n",
    "\n",
    "Je cherche à trouver un équilibre entre trois objectifs:\n",
    "\n",
    "1. **Suffisamment de règles** : Un nombre minimal de règles (≥ 10) est nécessaire pour obtenir des insights exploitables et identifier des patterns variés dans les données.\n",
    "\n",
    "2. **Pas trop de règles** : Un nombre excessif de règles (> 50) rend l'analyse difficile, et crée de la redondance.\n",
    "\n",
    "3. **Règles de haute qualité** : Les règles doivent représenter des associations réelles et significatives, pas simplement des coincidences statistiques.\n",
    "\n",
    "#### Indicateurs de qualité\n",
    "\n",
    "Comme mentionné précédemment dans la formulation du problème, le **lift** est l'indicateur clé pour évaluer la qualité d'une règle d'association :\n",
    "\n",
    "- **Lift = 1** : Les produits apparaissent ensemble par pur hasard (absence d'association)\n",
    "- **Lift > 1** : Corrélation positive - les produits sont achetés ensemble plus fréquemment que si les achats étaient indépendants\n",
    "- **Lift >> 1** : Association forte\n",
    "\n",
    "**Interprétation pratique :** Un lift de 1.5 signifie que les clients achètent ces produits ensemble 50% plus souvent que ce que le hasard prédirait. Un lift de 2.0 indique qu'ils les achètent ensemble deux fois plus souvent.\n",
    "\n",
    "En plus du lift, j'analyse :\n",
    "- Le **nombre total de règles générées** pour évaluer si mes seuils sont appropriés\n",
    "- Le **lift moyen** de l'ensemble des règles comme indicateur de qualité globale\n",
    "\n",
    "#### Le compromis (trade-off)\n",
    "\n",
    "Il existe un compromis dans le choix des seuils :\n",
    "\n",
    "- **Support élevé + Confiance élevée** --> Peu de règles, mais très robustes et fiables\n",
    "- **Support faible + Confiance faible** --> Beaucoup de règles, mais risque d'inclure des associations faibles ou non pertinentes\n",
    "\n",
    "L'objectif est de trouver l'équilibre : des seuils qui génèrent un nombre gérable de règles tout en maximisant leur pertinence métier (lift élevé).\n",
    "\n",
    "#### Méthodologie de recherche\n",
    "\n",
    "Je teste différentes combinaisons de seuils dans les plages suivantes :\n",
    "- **Support** : de 5% à 23% (adaptation à la taille du dataset)\n",
    "- **Confiance** : de 50% à 80%\n",
    "\n",
    "Pour chaque combinaison, j'évalue :\n",
    "1. Le nombre de règles générées\n",
    "2. Le lift moyen de ces règles\n",
    "3. La présence de règles avec un lift significativement supérieur à 1\n",
    "\n",
    "Les seuils retenus seront ceux qui offrent le meilleur équilibre entre quantité et qualité de règles."
   ]
  },
  {
   "cell_type": "code",
   "execution_count": 7,
   "metadata": {},
   "outputs": [],
   "source": [
    "# Test different threshold combinations\n",
    "# support_values = np.round(np.linspace(0.05, 0.23, 19), 2).tolist()\n",
    "support_values = np.round(np.linspace(0.05, 0.11, 7), 2).tolist()  ## step 0.01\n",
    "confidence_values = np.round(np.linspace(0.50, 0.80, 7), 2).tolist()  ## step: 0.05"
   ]
  },
  {
   "cell_type": "markdown",
   "metadata": {},
   "source": [
    "### Exécution d'Apriori"
   ]
  },
  {
   "cell_type": "code",
   "execution_count": 8,
   "metadata": {},
   "outputs": [],
   "source": [
    "results = []\n",
    "\n",
    "for sup in support_values:\n",
    "    for conf in confidence_values:\n",
    "        itemsets, rules, time = ar.run_apriori(df_encoded, min_support=sup, min_confidence=conf, display=False)\n",
    "        results.append({\n",
    "            'support': sup,\n",
    "            'confidence': conf,\n",
    "            'num_itemsets': len(itemsets),\n",
    "            'num_rules': len(rules),\n",
    "            'avg_lift': rules['lift'].mean() if len(rules) > 0 else 0\n",
    "        })"
   ]
  },
  {
   "cell_type": "code",
   "execution_count": 9,
   "metadata": {},
   "outputs": [
    {
     "name": "stdout",
     "output_type": "stream",
     "text": [
      "    support  confidence  num_itemsets  num_rules  avg_lift\n",
      "0      0.05        0.50            48         34  5.331155\n",
      "1      0.05        0.55            48         18  6.008230\n",
      "2      0.05        0.60            48         18  6.008230\n",
      "3      0.05        0.65            48         17  6.204793\n",
      "4      0.05        0.70            48          8  6.333333\n",
      "5      0.05        0.75            48          7  6.761905\n",
      "6      0.05        0.80            48          7  6.761905\n",
      "7      0.06        0.50            25          6  4.901235\n",
      "8      0.06        0.55            25          6  4.901235\n",
      "9      0.06        0.60            25          6  4.901235\n",
      "10     0.06        0.65            25          5  5.348148\n",
      "11     0.06        0.70            25          4  5.944444\n",
      "12     0.06        0.75            25          4  5.944444\n",
      "13     0.06        0.80            25          3  6.814815\n",
      "14     0.07        0.50            25          6  4.901235\n",
      "15     0.07        0.55            25          6  4.901235\n",
      "16     0.07        0.60            25          6  4.901235\n",
      "17     0.07        0.65            25          5  5.348148\n",
      "18     0.07        0.70            25          4  5.944444\n",
      "19     0.07        0.75            25          4  5.944444\n",
      "20     0.07        0.80            25          3  6.814815\n",
      "21     0.08        0.50            16          3  6.320988\n",
      "22     0.08        0.55            16          3  6.320988\n",
      "23     0.08        0.60            16          3  6.320988\n",
      "24     0.08        0.65            16          3  6.320988\n",
      "25     0.08        0.70            16          2  8.000000\n",
      "26     0.08        0.75            16          2  8.000000\n",
      "27     0.08        0.80            16          2  8.000000\n",
      "28     0.09        0.50            16          3  6.320988\n",
      "29     0.09        0.55            16          3  6.320988\n",
      "30     0.09        0.60            16          3  6.320988\n",
      "31     0.09        0.65            16          3  6.320988\n",
      "32     0.09        0.70            16          2  8.000000\n",
      "33     0.09        0.75            16          2  8.000000\n",
      "34     0.09        0.80            16          2  8.000000\n",
      "35     0.10        0.50            16          3  6.320988\n",
      "36     0.10        0.55            16          3  6.320988\n",
      "37     0.10        0.60            16          3  6.320988\n",
      "38     0.10        0.65            16          3  6.320988\n",
      "39     0.10        0.70            16          2  8.000000\n",
      "40     0.10        0.75            16          2  8.000000\n",
      "41     0.10        0.80            16          2  8.000000\n",
      "42     0.11        0.50             6          0  0.000000\n",
      "43     0.11        0.55             6          0  0.000000\n",
      "44     0.11        0.60             6          0  0.000000\n",
      "45     0.11        0.65             6          0  0.000000\n",
      "46     0.11        0.70             6          0  0.000000\n",
      "47     0.11        0.75             6          0  0.000000\n",
      "48     0.11        0.80             6          0  0.000000\n"
     ]
    },
    {
     "data": {
      "text/html": [
       "<div>\n",
       "<style scoped>\n",
       "    .dataframe tbody tr th:only-of-type {\n",
       "        vertical-align: middle;\n",
       "    }\n",
       "\n",
       "    .dataframe tbody tr th {\n",
       "        vertical-align: top;\n",
       "    }\n",
       "\n",
       "    .dataframe thead th {\n",
       "        text-align: right;\n",
       "    }\n",
       "</style>\n",
       "<table border=\"1\" class=\"dataframe\">\n",
       "  <thead>\n",
       "    <tr style=\"text-align: right;\">\n",
       "      <th></th>\n",
       "      <th>support</th>\n",
       "      <th>confidence</th>\n",
       "      <th>num_itemsets</th>\n",
       "      <th>num_rules</th>\n",
       "      <th>avg_lift</th>\n",
       "    </tr>\n",
       "  </thead>\n",
       "  <tbody>\n",
       "    <tr>\n",
       "      <th>6</th>\n",
       "      <td>0.05</td>\n",
       "      <td>0.80</td>\n",
       "      <td>48</td>\n",
       "      <td>7</td>\n",
       "      <td>6.761905</td>\n",
       "    </tr>\n",
       "    <tr>\n",
       "      <th>5</th>\n",
       "      <td>0.05</td>\n",
       "      <td>0.75</td>\n",
       "      <td>48</td>\n",
       "      <td>7</td>\n",
       "      <td>6.761905</td>\n",
       "    </tr>\n",
       "    <tr>\n",
       "      <th>4</th>\n",
       "      <td>0.05</td>\n",
       "      <td>0.70</td>\n",
       "      <td>48</td>\n",
       "      <td>8</td>\n",
       "      <td>6.333333</td>\n",
       "    </tr>\n",
       "    <tr>\n",
       "      <th>3</th>\n",
       "      <td>0.05</td>\n",
       "      <td>0.65</td>\n",
       "      <td>48</td>\n",
       "      <td>17</td>\n",
       "      <td>6.204793</td>\n",
       "    </tr>\n",
       "    <tr>\n",
       "      <th>1</th>\n",
       "      <td>0.05</td>\n",
       "      <td>0.55</td>\n",
       "      <td>48</td>\n",
       "      <td>18</td>\n",
       "      <td>6.008230</td>\n",
       "    </tr>\n",
       "    <tr>\n",
       "      <th>2</th>\n",
       "      <td>0.05</td>\n",
       "      <td>0.60</td>\n",
       "      <td>48</td>\n",
       "      <td>18</td>\n",
       "      <td>6.008230</td>\n",
       "    </tr>\n",
       "    <tr>\n",
       "      <th>10</th>\n",
       "      <td>0.06</td>\n",
       "      <td>0.65</td>\n",
       "      <td>25</td>\n",
       "      <td>5</td>\n",
       "      <td>5.348148</td>\n",
       "    </tr>\n",
       "    <tr>\n",
       "      <th>17</th>\n",
       "      <td>0.07</td>\n",
       "      <td>0.65</td>\n",
       "      <td>25</td>\n",
       "      <td>5</td>\n",
       "      <td>5.348148</td>\n",
       "    </tr>\n",
       "    <tr>\n",
       "      <th>0</th>\n",
       "      <td>0.05</td>\n",
       "      <td>0.50</td>\n",
       "      <td>48</td>\n",
       "      <td>34</td>\n",
       "      <td>5.331155</td>\n",
       "    </tr>\n",
       "    <tr>\n",
       "      <th>8</th>\n",
       "      <td>0.06</td>\n",
       "      <td>0.55</td>\n",
       "      <td>25</td>\n",
       "      <td>6</td>\n",
       "      <td>4.901235</td>\n",
       "    </tr>\n",
       "    <tr>\n",
       "      <th>7</th>\n",
       "      <td>0.06</td>\n",
       "      <td>0.50</td>\n",
       "      <td>25</td>\n",
       "      <td>6</td>\n",
       "      <td>4.901235</td>\n",
       "    </tr>\n",
       "    <tr>\n",
       "      <th>9</th>\n",
       "      <td>0.06</td>\n",
       "      <td>0.60</td>\n",
       "      <td>25</td>\n",
       "      <td>6</td>\n",
       "      <td>4.901235</td>\n",
       "    </tr>\n",
       "    <tr>\n",
       "      <th>14</th>\n",
       "      <td>0.07</td>\n",
       "      <td>0.50</td>\n",
       "      <td>25</td>\n",
       "      <td>6</td>\n",
       "      <td>4.901235</td>\n",
       "    </tr>\n",
       "    <tr>\n",
       "      <th>15</th>\n",
       "      <td>0.07</td>\n",
       "      <td>0.55</td>\n",
       "      <td>25</td>\n",
       "      <td>6</td>\n",
       "      <td>4.901235</td>\n",
       "    </tr>\n",
       "    <tr>\n",
       "      <th>16</th>\n",
       "      <td>0.07</td>\n",
       "      <td>0.60</td>\n",
       "      <td>25</td>\n",
       "      <td>6</td>\n",
       "      <td>4.901235</td>\n",
       "    </tr>\n",
       "  </tbody>\n",
       "</table>\n",
       "</div>"
      ],
      "text/plain": [
       "    support  confidence  num_itemsets  num_rules  avg_lift\n",
       "6      0.05        0.80            48          7  6.761905\n",
       "5      0.05        0.75            48          7  6.761905\n",
       "4      0.05        0.70            48          8  6.333333\n",
       "3      0.05        0.65            48         17  6.204793\n",
       "1      0.05        0.55            48         18  6.008230\n",
       "2      0.05        0.60            48         18  6.008230\n",
       "10     0.06        0.65            25          5  5.348148\n",
       "17     0.07        0.65            25          5  5.348148\n",
       "0      0.05        0.50            48         34  5.331155\n",
       "8      0.06        0.55            25          6  4.901235\n",
       "7      0.06        0.50            25          6  4.901235\n",
       "9      0.06        0.60            25          6  4.901235\n",
       "14     0.07        0.50            25          6  4.901235\n",
       "15     0.07        0.55            25          6  4.901235\n",
       "16     0.07        0.60            25          6  4.901235"
      ]
     },
     "execution_count": 9,
     "metadata": {},
     "output_type": "execute_result"
    }
   ],
   "source": [
    "# Display results\n",
    "results_df = pd.DataFrame(results)\n",
    "print(results_df)\n",
    "\n",
    "# Find the right parameters - good number of rules with high lift\n",
    "results_df[results_df['num_rules'].between(5, 50)].sort_values('avg_lift', ascending=False)"
   ]
  },
  {
   "cell_type": "markdown",
   "metadata": {},
   "source": [
    "\n",
    "\n",
    "Sur la base des résultats de la recherche par grille, j'ai conclu que **support 0,05 (5%)** avec **confiance 0,65** offre le meilleur équilibre :\n",
    "\n",
    "- L'algorithme ne peut trouver aucune règle lorsque le support est égal ou supérieur à 0,11 (11%), ce qui signifie qu'il n'existe aucune combinaison de produits apparaissant plus de 4 fois ensemble dans le dataset. Ce seuil est bien trop restrictif pour un dataset aussi petit.\n",
    "\n",
    "- Étant donné la taille du dataset (40 transactions), un seuil de support de 5% signifie que les combinaisons de produits doivent apparaître dans au moins 2 transactions, ce qui est raisonnable.\n",
    "\n",
    "- 17 règles sont générées avec une confiance de 65%, ce qui est suffisant pour l'analyse tout en maintenant une fiabilité élevée. Des seuils de confiance plus bas (0,60) produisent 18 règles, mais le gain marginal est minimal, et une confiance plus élevée garantit des associations plus fiables.\n",
    "\n",
    "- Le lift moyen est d'environ 6,2, ce qui indique des associations très fortes."
   ]
  },
  {
   "cell_type": "code",
   "execution_count": 10,
   "metadata": {},
   "outputs": [],
   "source": [
    "MIN_SUPPORT = 0.05     # 5% - at least 2 transactions out of 40\n",
    "MIN_CONFIDENCE = 0.65  # 65% - will have 17 rules"
   ]
  },
  {
   "cell_type": "code",
   "execution_count": 11,
   "metadata": {},
   "outputs": [
    {
     "name": "stdout",
     "output_type": "stream",
     "text": [
      "============================================================\n",
      "EXÉCUTION DE L'ALGORITHME APRIORI\n",
      "============================================================\n",
      "Support minimal : 5.0%\n",
      "Confiance minimale : 65.0%\n",
      "\n",
      "Traitement en cours...\n",
      "✓ Terminé en 0.0053 secondes\n",
      "✓ 48 ensembles fréquents trouvés\n",
      "✓ 17 règles d'association générées\n",
      "============================================================\n",
      "\n"
     ]
    }
   ],
   "source": [
    "# Run Apriori algorithm\n",
    "apriori_itemsets, apriori_rules, apriori_time = ar.run_apriori(\n",
    "    df_encoded, \n",
    "    min_support=MIN_SUPPORT, \n",
    "    min_confidence=MIN_CONFIDENCE\n",
    ")"
   ]
  },
  {
   "cell_type": "markdown",
   "metadata": {},
   "source": [
    "### Ensembles fréquents trouvés"
   ]
  },
  {
   "cell_type": "code",
   "execution_count": 12,
   "metadata": {},
   "outputs": [
    {
     "name": "stdout",
     "output_type": "stream",
     "text": [
      "\n",
      "============================================================\n",
      "TOP 15 ENSEMBLES FRÉQUENTS (par support)\n",
      "============================================================\n",
      " 1. {bread}                    | Support: 0.225 | Taille: 1\n",
      " 2. {milk}                     | Support: 0.225 | Taille: 1\n",
      " 3. {butter}                   | Support: 0.150 | Taille: 1\n",
      " 4. {cheese}                   | Support: 0.125 | Taille: 1\n",
      " 5. {pasta}                    | Support: 0.125 | Taille: 1\n",
      " 6. {biscuits}                 | Support: 0.125 | Taille: 1\n",
      " 7. {coffee}                   | Support: 0.100 | Taille: 1\n",
      " 8. {banana}                   | Support: 0.100 | Taille: 1\n",
      " 9. {eggs}                     | Support: 0.100 | Taille: 1\n",
      "10. {pasta, tomato_sauce}      | Support: 0.100 | Taille: 2\n",
      "11. {bread, butter}            | Support: 0.100 | Taille: 2\n",
      "12. {tomato_sauce}             | Support: 0.100 | Taille: 1\n",
      "13. {tea}                      | Support: 0.100 | Taille: 1\n",
      "14. {tomato}                   | Support: 0.100 | Taille: 1\n",
      "15. {sugar}                    | Support: 0.100 | Taille: 1\n",
      "============================================================\n",
      "\n"
     ]
    }
   ],
   "source": [
    "# Display frequent itemsets\n",
    "ar.display_frequent_itemsets(apriori_itemsets, top_n=15)"
   ]
  },
  {
   "cell_type": "code",
   "execution_count": 13,
   "metadata": {},
   "outputs": [
    {
     "name": "stdout",
     "output_type": "stream",
     "text": [
      "============================================================\n",
      "TOP 15 COMBINAISONS DE PRODUITS (taille > 1)\n",
      "============================================================\n",
      "Nombre total d'itemsets: 48\n",
      "Nombre d'itemsets de produits combinés: 24\n",
      "\n",
      "============================================================\n",
      " 1. {bread, butter}            | Support: 0.100 | Taille: 2\n",
      " 2. {pasta, tomato_sauce}      | Support: 0.100 | Taille: 2\n",
      " 3. {bread, cheese}            | Support: 0.075 | Taille: 2\n",
      " 4. {banana, milk}             | Support: 0.075 | Taille: 2\n",
      " 5. {cereal, milk}             | Support: 0.075 | Taille: 2\n",
      " 6. {biscuits, coffee}         | Support: 0.050 | Taille: 2\n",
      " 7. {biscuits, tea}            | Support: 0.050 | Taille: 2\n",
      " 8. {banana, cereal}           | Support: 0.050 | Taille: 2\n",
      " 9. {bread, jam}               | Support: 0.050 | Taille: 2\n",
      "10. {bread, eggs}              | Support: 0.050 | Taille: 2\n",
      "11. {butter, eggs}             | Support: 0.050 | Taille: 2\n",
      "12. {bread, milk}              | Support: 0.050 | Taille: 2\n",
      "13. {butter, jam}              | Support: 0.050 | Taille: 2\n",
      "14. {cheese, pasta}            | Support: 0.050 | Taille: 2\n",
      "15. {cheese, tomato}           | Support: 0.050 | Taille: 2\n",
      "============================================================\n",
      "\n"
     ]
    }
   ],
   "source": [
    "ar.display_frequent_list_itemsets(apriori_itemsets, top_n=15)"
   ]
  },
  {
   "cell_type": "markdown",
   "metadata": {},
   "source": [
    "### Règles d'association générées"
   ]
  },
  {
   "cell_type": "code",
   "execution_count": 14,
   "metadata": {},
   "outputs": [
    {
     "data": {
      "text/html": [
       "<div>\n",
       "<style scoped>\n",
       "    .dataframe tbody tr th:only-of-type {\n",
       "        vertical-align: middle;\n",
       "    }\n",
       "\n",
       "    .dataframe tbody tr th {\n",
       "        vertical-align: top;\n",
       "    }\n",
       "\n",
       "    .dataframe thead th {\n",
       "        text-align: right;\n",
       "    }\n",
       "</style>\n",
       "<table border=\"1\" class=\"dataframe\">\n",
       "  <thead>\n",
       "    <tr style=\"text-align: right;\">\n",
       "      <th></th>\n",
       "      <th>Règle</th>\n",
       "      <th>Support</th>\n",
       "      <th>Confiance</th>\n",
       "      <th>Lift</th>\n",
       "    </tr>\n",
       "  </thead>\n",
       "  <tbody>\n",
       "    <tr>\n",
       "      <th>1</th>\n",
       "      <td>{flour} --&gt; {eggs}</td>\n",
       "      <td>0.050</td>\n",
       "      <td>1.000000</td>\n",
       "      <td>10.000000</td>\n",
       "    </tr>\n",
       "    <tr>\n",
       "      <th>2</th>\n",
       "      <td>{cereal} --&gt; {banana, milk}</td>\n",
       "      <td>0.050</td>\n",
       "      <td>0.666667</td>\n",
       "      <td>8.888889</td>\n",
       "    </tr>\n",
       "    <tr>\n",
       "      <th>3</th>\n",
       "      <td>{banana, milk} --&gt; {cereal}</td>\n",
       "      <td>0.050</td>\n",
       "      <td>0.666667</td>\n",
       "      <td>8.888889</td>\n",
       "    </tr>\n",
       "    <tr>\n",
       "      <th>4</th>\n",
       "      <td>{pasta} --&gt; {tomato_sauce}</td>\n",
       "      <td>0.100</td>\n",
       "      <td>0.800000</td>\n",
       "      <td>8.000000</td>\n",
       "    </tr>\n",
       "    <tr>\n",
       "      <th>5</th>\n",
       "      <td>{bread, tomato} --&gt; {cheese}</td>\n",
       "      <td>0.050</td>\n",
       "      <td>1.000000</td>\n",
       "      <td>8.000000</td>\n",
       "    </tr>\n",
       "    <tr>\n",
       "      <th>6</th>\n",
       "      <td>{tomato_sauce} --&gt; {pasta}</td>\n",
       "      <td>0.100</td>\n",
       "      <td>1.000000</td>\n",
       "      <td>8.000000</td>\n",
       "    </tr>\n",
       "    <tr>\n",
       "      <th>7</th>\n",
       "      <td>{cereal} --&gt; {banana}</td>\n",
       "      <td>0.050</td>\n",
       "      <td>0.666667</td>\n",
       "      <td>6.666667</td>\n",
       "    </tr>\n",
       "    <tr>\n",
       "      <th>8</th>\n",
       "      <td>{honey} --&gt; {tea}</td>\n",
       "      <td>0.050</td>\n",
       "      <td>0.666667</td>\n",
       "      <td>6.666667</td>\n",
       "    </tr>\n",
       "    <tr>\n",
       "      <th>9</th>\n",
       "      <td>{bread, cheese} --&gt; {tomato}</td>\n",
       "      <td>0.050</td>\n",
       "      <td>0.666667</td>\n",
       "      <td>6.666667</td>\n",
       "    </tr>\n",
       "    <tr>\n",
       "      <th>10</th>\n",
       "      <td>{cereal, milk} --&gt; {banana}</td>\n",
       "      <td>0.050</td>\n",
       "      <td>0.666667</td>\n",
       "      <td>6.666667</td>\n",
       "    </tr>\n",
       "    <tr>\n",
       "      <th>11</th>\n",
       "      <td>{jam} --&gt; {butter}</td>\n",
       "      <td>0.050</td>\n",
       "      <td>0.666667</td>\n",
       "      <td>4.444444</td>\n",
       "    </tr>\n",
       "    <tr>\n",
       "      <th>12</th>\n",
       "      <td>{banana, cereal} --&gt; {milk}</td>\n",
       "      <td>0.050</td>\n",
       "      <td>1.000000</td>\n",
       "      <td>4.444444</td>\n",
       "    </tr>\n",
       "    <tr>\n",
       "      <th>13</th>\n",
       "      <td>{cereal} --&gt; {milk}</td>\n",
       "      <td>0.075</td>\n",
       "      <td>1.000000</td>\n",
       "      <td>4.444444</td>\n",
       "    </tr>\n",
       "    <tr>\n",
       "      <th>14</th>\n",
       "      <td>{cheese, tomato} --&gt; {bread}</td>\n",
       "      <td>0.050</td>\n",
       "      <td>1.000000</td>\n",
       "      <td>4.444444</td>\n",
       "    </tr>\n",
       "    <tr>\n",
       "      <th>15</th>\n",
       "      <td>{banana} --&gt; {milk}</td>\n",
       "      <td>0.075</td>\n",
       "      <td>0.750000</td>\n",
       "      <td>3.333333</td>\n",
       "    </tr>\n",
       "  </tbody>\n",
       "</table>\n",
       "</div>"
      ],
      "text/plain": [
       "                           Règle  Support  Confiance       Lift\n",
       "1             {flour} --> {eggs}    0.050   1.000000  10.000000\n",
       "2    {cereal} --> {banana, milk}    0.050   0.666667   8.888889\n",
       "3    {banana, milk} --> {cereal}    0.050   0.666667   8.888889\n",
       "4     {pasta} --> {tomato_sauce}    0.100   0.800000   8.000000\n",
       "5   {bread, tomato} --> {cheese}    0.050   1.000000   8.000000\n",
       "6     {tomato_sauce} --> {pasta}    0.100   1.000000   8.000000\n",
       "7          {cereal} --> {banana}    0.050   0.666667   6.666667\n",
       "8              {honey} --> {tea}    0.050   0.666667   6.666667\n",
       "9   {bread, cheese} --> {tomato}    0.050   0.666667   6.666667\n",
       "10   {cereal, milk} --> {banana}    0.050   0.666667   6.666667\n",
       "11            {jam} --> {butter}    0.050   0.666667   4.444444\n",
       "12   {banana, cereal} --> {milk}    0.050   1.000000   4.444444\n",
       "13           {cereal} --> {milk}    0.075   1.000000   4.444444\n",
       "14  {cheese, tomato} --> {bread}    0.050   1.000000   4.444444\n",
       "15           {banana} --> {milk}    0.075   0.750000   3.333333"
      ]
     },
     "execution_count": 14,
     "metadata": {},
     "output_type": "execute_result"
    }
   ],
   "source": [
    "# Display association rules sorted by lift\n",
    "ar.display_rules(apriori_rules, top_n=15, sort_by='lift')"
   ]
  },
  {
   "cell_type": "markdown",
   "metadata": {},
   "source": [
    "### Analyse de la qualité des règles Apriori"
   ]
  },
  {
   "cell_type": "code",
   "execution_count": 15,
   "metadata": {},
   "outputs": [
    {
     "name": "stdout",
     "output_type": "stream",
     "text": [
      "============================================================\n",
      "ANALYSE DE LA QUALITÉ DES RÈGLES\n",
      "============================================================\n",
      "Nombre total de règles : 17\n",
      "\n",
      "Corrélation positive (lift > 1) : 17 règles\n",
      "Corrélation négative (lift < 1) : 0 règles\n",
      "Pas de corrélation (lift = 1)   : 0 règles\n",
      "\n",
      "Moyennes :\n",
      "  Lift moyen       : 6.205\n",
      "  Confiance moyenne: 0.797\n",
      "  Support moyen    : 0.062\n",
      "============================================================\n",
      "\n"
     ]
    }
   ],
   "source": [
    "# Analyse rule quality\n",
    "apriori_quality = ar.analyse_rule_quality(apriori_rules)\n",
    "ar.display_quality_analysis(apriori_quality)"
   ]
  },
  {
   "cell_type": "markdown",
   "metadata": {},
   "source": [
    "### Interprétation des principales règles Apriori\n",
    "\n",
    "L'algorithme a généré 17 règles avec les seuils suivants :\n",
    "- Support minimal : 5%\n",
    "- Confiance minimale : 65%\n",
    "\n",
    "\n",
    "#### Règles avec Lift > 8\n",
    "\n",
    "**{flour} --> {eggs}** (support = 5%, confiance = 100%, lift = 10,0)\n",
    "- Indique que tous les clients qui achètent de la farine achètent également des oeufs\n",
    "- Un lift de 10 signifie que cette paire apparaît 10 fois plus souvent que si les achats étaient indépendants\n",
    "- Comme prévu, ces produits sont des incontournables de la pâtisserie, il est donc cohérent qu'ils soient achetés ensemble\n",
    "\n",
    "**{cereal} <--> {banana, milk}** (support = 5%, confiance = 67%, lift = 8,9)\n",
    "- Lorsqu'un client achète des céréales, il y a 67% de chances qu'il achète aussi des bananes et du lait, OU\n",
    "- Lorsqu'un client achète des bananes et du lait, il y a 67% de chances qu'il achète aussi des céréales\n",
    "- Cela démontre une forte association bidirectionnelle entre les deux ensembles\n",
    "- Bien que les céréales ne figurent pas parmi les produits individuels les plus fréquents, ce trio représente un panier petit-déjeuner complet\n",
    "\n",
    "**{pasta} <--> {tomato_sauce}** (support = 10%, confiance = 80-100%, lift = 8,0)\n",
    "- Forte association bidirectionnelle entre les pâtes et la sauce tomate\n",
    "- Tous les clients qui achètent de la sauce tomate achètent également des pâtes (la confiance de {tomato_sauce} --> {pasta} est de 100%)\n",
    "\n",
    "**{bread, tomato} --> {cheese}** (support = 5%, confiance = 100%, lift = 8,0)\n",
    "- Lorsqu'un client achète du pain et des tomates, il achète toujours du fromage également\n",
    "- Suggère fortement que ces articles sont consommés ensemble comme un repas froid\n",
    "\n",
    "\n",
    "#### Observations générales\n",
    "\n",
    "1. **Thèmes récurrents** : Comme anticipé, les règles se regroupent autour d'occasions de repas spécifiques - pâtisserie, petit-déjeuner/repas froids, cuisine, moment goûter, etc.\n",
    "\n",
    "2. **Confiance élevée** : La majorité des règles ont une confiance supérieure à 66%, ce qui les rend fiables pour générer des recommandations\n",
    "\n",
    "3. **Associations logiques** : Un plan de repas cohérent peut être déduit des règles\n",
    "\n",
    "4. **Bidirectionnalité** : Indique des associations particulièrement fortes entre les produits\n",
    "\n",
    "**Conclusion** : Ces règles sont fiables et constituent une base solide pour des recommandations marketing éclairées."
   ]
  },
  {
   "cell_type": "markdown",
   "metadata": {},
   "source": [
    "## **5. Application de l'algorithme FP-Growth**\n",
    "\n",
    "### Principe de l'algorithme FP-Growth\n",
    "\n",
    "L'algorithme **FP-Growth** (Frequent Pattern Growth) utilise une structure de données compacte appelée **FP-Tree** :\n",
    "\n",
    "1. Construction du FP-Tree à partir des transactions\n",
    "2. Extraction récursive des patterns fréquents\n",
    "3. Pas de génération de candidats (contrairement à Apriori)\n",
    "\n",
    "### Exécution de FP-Growth"
   ]
  },
  {
   "cell_type": "code",
   "execution_count": 16,
   "metadata": {},
   "outputs": [
    {
     "name": "stdout",
     "output_type": "stream",
     "text": [
      "============================================================\n",
      "EXÉCUTION DE L'ALGORITHME FP-GROWTH\n",
      "============================================================\n",
      "Support minimal : 5.0%\n",
      "Confiance minimale : 65.0%\n",
      "\n",
      "Traitement en cours...\n",
      "✓ Terminé en 0.0086 secondes\n",
      "✓ 48 ensembles fréquents trouvés\n",
      "✓ 17 règles d'association générées\n",
      "============================================================\n",
      "\n"
     ]
    }
   ],
   "source": [
    "# Run FP-Growth algorithm with same parameters\n",
    "fpgrowth_itemsets, fpgrowth_rules, fpgrowth_time = ar.run_fpgrowth(\n",
    "    df_encoded, \n",
    "    min_support=MIN_SUPPORT, \n",
    "    min_confidence=MIN_CONFIDENCE\n",
    ")"
   ]
  },
  {
   "cell_type": "markdown",
   "metadata": {},
   "source": [
    "### Ensembles fréquents trouvés"
   ]
  },
  {
   "cell_type": "code",
   "execution_count": 17,
   "metadata": {},
   "outputs": [
    {
     "name": "stdout",
     "output_type": "stream",
     "text": [
      "\n",
      "============================================================\n",
      "TOP 15 ENSEMBLES FRÉQUENTS (par support)\n",
      "============================================================\n",
      " 1. {bread}                    | Support: 0.225 | Taille: 1\n",
      " 2. {milk}                     | Support: 0.225 | Taille: 1\n",
      " 3. {butter}                   | Support: 0.150 | Taille: 1\n",
      " 4. {cheese}                   | Support: 0.125 | Taille: 1\n",
      " 5. {biscuits}                 | Support: 0.125 | Taille: 1\n",
      " 6. {pasta}                    | Support: 0.125 | Taille: 1\n",
      " 7. {eggs}                     | Support: 0.100 | Taille: 1\n",
      " 8. {banana}                   | Support: 0.100 | Taille: 1\n",
      " 9. {coffee}                   | Support: 0.100 | Taille: 1\n",
      "10. {rice}                     | Support: 0.100 | Taille: 1\n",
      "11. {tomato_sauce}             | Support: 0.100 | Taille: 1\n",
      "12. {tomato}                   | Support: 0.100 | Taille: 1\n",
      "13. {sugar}                    | Support: 0.100 | Taille: 1\n",
      "14. {pasta, tomato_sauce}      | Support: 0.100 | Taille: 2\n",
      "15. {bread, butter}            | Support: 0.100 | Taille: 2\n",
      "============================================================\n",
      "\n"
     ]
    }
   ],
   "source": [
    "# Display frequent itemsets\n",
    "ar.display_frequent_itemsets(fpgrowth_itemsets, top_n=15)"
   ]
  },
  {
   "cell_type": "code",
   "execution_count": 18,
   "metadata": {},
   "outputs": [
    {
     "name": "stdout",
     "output_type": "stream",
     "text": [
      "============================================================\n",
      "TOP 15 COMBINAISONS DE PRODUITS (taille > 1)\n",
      "============================================================\n",
      "Nombre total d'itemsets: 48\n",
      "Nombre d'itemsets de produits combinés: 24\n",
      "\n",
      "============================================================\n",
      " 1. {bread, butter}            | Support: 0.100 | Taille: 2\n",
      " 2. {pasta, tomato_sauce}      | Support: 0.100 | Taille: 2\n",
      " 3. {bread, cheese}            | Support: 0.075 | Taille: 2\n",
      " 4. {banana, milk}             | Support: 0.075 | Taille: 2\n",
      " 5. {cereal, milk}             | Support: 0.075 | Taille: 2\n",
      " 6. {biscuits, coffee}         | Support: 0.050 | Taille: 2\n",
      " 7. {biscuits, tea}            | Support: 0.050 | Taille: 2\n",
      " 8. {banana, cereal}           | Support: 0.050 | Taille: 2\n",
      " 9. {bread, jam}               | Support: 0.050 | Taille: 2\n",
      "10. {bread, eggs}              | Support: 0.050 | Taille: 2\n",
      "11. {butter, eggs}             | Support: 0.050 | Taille: 2\n",
      "12. {bread, milk}              | Support: 0.050 | Taille: 2\n",
      "13. {butter, jam}              | Support: 0.050 | Taille: 2\n",
      "14. {cheese, pasta}            | Support: 0.050 | Taille: 2\n",
      "15. {cheese, tomato}           | Support: 0.050 | Taille: 2\n",
      "============================================================\n",
      "\n"
     ]
    }
   ],
   "source": [
    "ar.display_frequent_list_itemsets(apriori_itemsets, top_n=15)"
   ]
  },
  {
   "cell_type": "markdown",
   "metadata": {},
   "source": [
    "### Règles d'association générées"
   ]
  },
  {
   "cell_type": "code",
   "execution_count": 19,
   "metadata": {},
   "outputs": [
    {
     "data": {
      "text/html": [
       "<div>\n",
       "<style scoped>\n",
       "    .dataframe tbody tr th:only-of-type {\n",
       "        vertical-align: middle;\n",
       "    }\n",
       "\n",
       "    .dataframe tbody tr th {\n",
       "        vertical-align: top;\n",
       "    }\n",
       "\n",
       "    .dataframe thead th {\n",
       "        text-align: right;\n",
       "    }\n",
       "</style>\n",
       "<table border=\"1\" class=\"dataframe\">\n",
       "  <thead>\n",
       "    <tr style=\"text-align: right;\">\n",
       "      <th></th>\n",
       "      <th>Règle</th>\n",
       "      <th>Support</th>\n",
       "      <th>Confiance</th>\n",
       "      <th>Lift</th>\n",
       "    </tr>\n",
       "  </thead>\n",
       "  <tbody>\n",
       "    <tr>\n",
       "      <th>1</th>\n",
       "      <td>{flour} --&gt; {eggs}</td>\n",
       "      <td>0.050</td>\n",
       "      <td>1.000000</td>\n",
       "      <td>10.000000</td>\n",
       "    </tr>\n",
       "    <tr>\n",
       "      <th>2</th>\n",
       "      <td>{banana, milk} --&gt; {cereal}</td>\n",
       "      <td>0.050</td>\n",
       "      <td>0.666667</td>\n",
       "      <td>8.888889</td>\n",
       "    </tr>\n",
       "    <tr>\n",
       "      <th>3</th>\n",
       "      <td>{cereal} --&gt; {banana, milk}</td>\n",
       "      <td>0.050</td>\n",
       "      <td>0.666667</td>\n",
       "      <td>8.888889</td>\n",
       "    </tr>\n",
       "    <tr>\n",
       "      <th>4</th>\n",
       "      <td>{pasta} --&gt; {tomato_sauce}</td>\n",
       "      <td>0.100</td>\n",
       "      <td>0.800000</td>\n",
       "      <td>8.000000</td>\n",
       "    </tr>\n",
       "    <tr>\n",
       "      <th>5</th>\n",
       "      <td>{tomato_sauce} --&gt; {pasta}</td>\n",
       "      <td>0.100</td>\n",
       "      <td>1.000000</td>\n",
       "      <td>8.000000</td>\n",
       "    </tr>\n",
       "    <tr>\n",
       "      <th>6</th>\n",
       "      <td>{bread, tomato} --&gt; {cheese}</td>\n",
       "      <td>0.050</td>\n",
       "      <td>1.000000</td>\n",
       "      <td>8.000000</td>\n",
       "    </tr>\n",
       "    <tr>\n",
       "      <th>7</th>\n",
       "      <td>{bread, cheese} --&gt; {tomato}</td>\n",
       "      <td>0.050</td>\n",
       "      <td>0.666667</td>\n",
       "      <td>6.666667</td>\n",
       "    </tr>\n",
       "    <tr>\n",
       "      <th>8</th>\n",
       "      <td>{cereal} --&gt; {banana}</td>\n",
       "      <td>0.050</td>\n",
       "      <td>0.666667</td>\n",
       "      <td>6.666667</td>\n",
       "    </tr>\n",
       "    <tr>\n",
       "      <th>9</th>\n",
       "      <td>{cereal, milk} --&gt; {banana}</td>\n",
       "      <td>0.050</td>\n",
       "      <td>0.666667</td>\n",
       "      <td>6.666667</td>\n",
       "    </tr>\n",
       "    <tr>\n",
       "      <th>10</th>\n",
       "      <td>{honey} --&gt; {tea}</td>\n",
       "      <td>0.050</td>\n",
       "      <td>0.666667</td>\n",
       "      <td>6.666667</td>\n",
       "    </tr>\n",
       "    <tr>\n",
       "      <th>11</th>\n",
       "      <td>{jam} --&gt; {butter}</td>\n",
       "      <td>0.050</td>\n",
       "      <td>0.666667</td>\n",
       "      <td>4.444444</td>\n",
       "    </tr>\n",
       "    <tr>\n",
       "      <th>12</th>\n",
       "      <td>{cheese, tomato} --&gt; {bread}</td>\n",
       "      <td>0.050</td>\n",
       "      <td>1.000000</td>\n",
       "      <td>4.444444</td>\n",
       "    </tr>\n",
       "    <tr>\n",
       "      <th>13</th>\n",
       "      <td>{cereal} --&gt; {milk}</td>\n",
       "      <td>0.075</td>\n",
       "      <td>1.000000</td>\n",
       "      <td>4.444444</td>\n",
       "    </tr>\n",
       "    <tr>\n",
       "      <th>14</th>\n",
       "      <td>{banana, cereal} --&gt; {milk}</td>\n",
       "      <td>0.050</td>\n",
       "      <td>1.000000</td>\n",
       "      <td>4.444444</td>\n",
       "    </tr>\n",
       "    <tr>\n",
       "      <th>15</th>\n",
       "      <td>{banana} --&gt; {milk}</td>\n",
       "      <td>0.075</td>\n",
       "      <td>0.750000</td>\n",
       "      <td>3.333333</td>\n",
       "    </tr>\n",
       "  </tbody>\n",
       "</table>\n",
       "</div>"
      ],
      "text/plain": [
       "                           Règle  Support  Confiance       Lift\n",
       "1             {flour} --> {eggs}    0.050   1.000000  10.000000\n",
       "2    {banana, milk} --> {cereal}    0.050   0.666667   8.888889\n",
       "3    {cereal} --> {banana, milk}    0.050   0.666667   8.888889\n",
       "4     {pasta} --> {tomato_sauce}    0.100   0.800000   8.000000\n",
       "5     {tomato_sauce} --> {pasta}    0.100   1.000000   8.000000\n",
       "6   {bread, tomato} --> {cheese}    0.050   1.000000   8.000000\n",
       "7   {bread, cheese} --> {tomato}    0.050   0.666667   6.666667\n",
       "8          {cereal} --> {banana}    0.050   0.666667   6.666667\n",
       "9    {cereal, milk} --> {banana}    0.050   0.666667   6.666667\n",
       "10             {honey} --> {tea}    0.050   0.666667   6.666667\n",
       "11            {jam} --> {butter}    0.050   0.666667   4.444444\n",
       "12  {cheese, tomato} --> {bread}    0.050   1.000000   4.444444\n",
       "13           {cereal} --> {milk}    0.075   1.000000   4.444444\n",
       "14   {banana, cereal} --> {milk}    0.050   1.000000   4.444444\n",
       "15           {banana} --> {milk}    0.075   0.750000   3.333333"
      ]
     },
     "execution_count": 19,
     "metadata": {},
     "output_type": "execute_result"
    }
   ],
   "source": [
    "# Display association rules sorted by lift\n",
    "ar.display_rules(fpgrowth_rules, top_n=15, sort_by='lift')"
   ]
  },
  {
   "cell_type": "markdown",
   "metadata": {},
   "source": [
    "### Analyse de la qualité des règles FP-Growth"
   ]
  },
  {
   "cell_type": "code",
   "execution_count": 20,
   "metadata": {},
   "outputs": [
    {
     "name": "stdout",
     "output_type": "stream",
     "text": [
      "============================================================\n",
      "ANALYSE DE LA QUALITÉ DES RÈGLES\n",
      "============================================================\n",
      "Nombre total de règles : 17\n",
      "\n",
      "Corrélation positive (lift > 1) : 17 règles\n",
      "Corrélation négative (lift < 1) : 0 règles\n",
      "Pas de corrélation (lift = 1)   : 0 règles\n",
      "\n",
      "Moyennes :\n",
      "  Lift moyen       : 6.205\n",
      "  Confiance moyenne: 0.797\n",
      "  Support moyen    : 0.062\n",
      "============================================================\n",
      "\n"
     ]
    }
   ],
   "source": [
    "# Analyse rule quality\n",
    "fpgrowth_quality = ar.analyse_rule_quality(fpgrowth_rules)\n",
    "ar.display_quality_analysis(fpgrowth_quality)"
   ]
  },
  {
   "cell_type": "markdown",
   "metadata": {},
   "source": [
    "## **6. Comparaison des algorithmes**\n",
    "\n",
    "### Tableau comparatif"
   ]
  },
  {
   "cell_type": "code",
   "execution_count": 21,
   "metadata": {},
   "outputs": [
    {
     "name": "stdout",
     "output_type": "stream",
     "text": [
      "============================================================\n",
      "COMPARAISON DES ALGORITHMES\n",
      "============================================================\n",
      "             Métrique Apriori FP-Growth\n",
      "  Ensembles fréquents      48        48\n",
      "      Règles générées      17        17\n",
      "Temps d'exécution (s)  0.0053    0.0086\n",
      "     Vitesse relative   1.00x     0.62x\n",
      "============================================================\n",
      "\n"
     ]
    }
   ],
   "source": [
    "# Compare algorithms\n",
    "comparison = ar.compare_algorithms(\n",
    "    (apriori_itemsets, apriori_rules, apriori_time),\n",
    "    (fpgrowth_itemsets, fpgrowth_rules, fpgrowth_time)\n",
    ")\n",
    "\n",
    "ar.display_comparison(comparison)"
   ]
  },
  {
   "cell_type": "markdown",
   "metadata": {},
   "source": [
    "### Analyse comparative\n",
    "\n",
    "#### Similarités\n",
    "\n",
    "Les deux algorithmes produisent des résultats identiques :\n",
    "- 48 ensembles fréquents\n",
    "- 17 règles qui sont identiques\n",
    "- Qualité identique : lift moyen de 6,205, confiance moyenne de 79,7%, support moyen de 6,2%\n",
    "\n",
    "**Conclusion** : Les deux algorithmes implémentent la même logique de découverte de patterns fréquents ; par conséquent, avec des seuils identiques, ils produisent nécessairement les mêmes résultats.\n",
    "\n",
    "#### Différences\n",
    "\n",
    "Les algorithmes diffèrent au niveau des performances :\n",
    "- La vitesse de FP-Growth varie considérablement. Sur 10 exécutions, j'ai observé qu'il était plus rapide qu'Apriori une seule fois.\n",
    "- En moyenne, Apriori est 30-50% plus rapide que FP-Growth\n",
    "\n",
    "Il s'agit d'un comportement inattendu, car FP-Growth est généralement considéré comme plus efficace parce qu'il ne génère pas de candidats. Cependant, compte tenu de la taille du dataset, ce résultat n'est pas surprenant : **FP-Growth performe mieux sur les grands datasets.**\n",
    "\n",
    "Avec seulement 40 transactions, le coût de construction du FP-Tree dépasse les avantages de ne pas générer de candidats. L'approche plus simple d'Apriori est plus efficace pour des datasets très petits.\n",
    "\n",
    "### Avantages de FP-Growth\n",
    "\n",
    "- **Pas de génération de candidats** : Extrait les patterns fréquents directement de la structure arborescente\n",
    "- **Structure compacte** : Le FP-Tree représente les transactions de manière condensée, évitant les lectures multiples de la base de données\n",
    "- **Scalabilité** : Fonctionne extrêmement bien sur les grands datasets (>1000 transactions), car il construit l'arbre de décision une fois puis le parcourt simplement"
   ]
  },
  {
   "cell_type": "markdown",
   "metadata": {},
   "source": [
    "## **7. Interprétation et recommandations**\n",
    "### Génération des recommandations marketing basées sur les 5 principales règles"
   ]
  },
  {
   "cell_type": "code",
   "execution_count": 22,
   "metadata": {},
   "outputs": [
    {
     "name": "stdout",
     "output_type": "stream",
     "text": [
      "================================================================================\n",
      "RECOMMANDATIONS MARKETING\n",
      "================================================================================\n",
      "📌 Recommandation 1:\n",
      "   Règle : {flour} --> {eggs}\n",
      "   Lift : 10.000 | Confiance : 1.000 | Support : 0.050\n",
      "   💡 Proposer une promotion groupée : {flour} + {eggs}\n",
      "\n",
      "📌 Recommandation 2:\n",
      "   Règle : {cereal} --> {banana, milk}\n",
      "   Lift : 8.889 | Confiance : 0.667 | Support : 0.050\n",
      "   💡 Proposer une promotion groupée : {cereal} + {banana, milk}\n",
      "\n",
      "📌 Recommandation 3:\n",
      "   Règle : {banana, milk} --> {cereal}\n",
      "   Lift : 8.889 | Confiance : 0.667 | Support : 0.050\n",
      "   💡 Proposer une promotion groupée : {banana, milk} + {cereal}\n",
      "\n",
      "📌 Recommandation 4:\n",
      "   Règle : {pasta} --> {tomato_sauce}\n",
      "   Lift : 8.000 | Confiance : 0.800 | Support : 0.100\n",
      "   💡 Proposer une promotion groupée : {pasta} + {tomato_sauce}\n",
      "\n",
      "📌 Recommandation 5:\n",
      "   Règle : {bread, tomato} --> {cheese}\n",
      "   Lift : 8.000 | Confiance : 1.000 | Support : 0.050\n",
      "   💡 Proposer une promotion groupée : {bread, tomato} + {cheese}\n",
      "\n",
      "\n",
      "================================================================================\n",
      "\n"
     ]
    }
   ],
   "source": [
    "# Generate marketing recommendations\n",
    "recommendations = ar.generate_recommendations(apriori_rules, min_lift=1.2, top_n=5)\n",
    "ar.display_recommendations(recommendations)"
   ]
  },
  {
   "cell_type": "markdown",
   "metadata": {},
   "source": [
    "### Stratégies marketing proposées\n",
    "\n",
    "Sur la base des règles découvertes, je propose les stratégies suivantes :\n",
    "\n",
    "#### 1. Promotions groupées\n",
    "\n",
    "Je propose d'offrir des promotions sur les groupes suivants, lorsqu'ils sont achetés ensemble :\n",
    "\n",
    "- **Pack \"Pâtisserie maison\"** : Farine + oeufs (basé sur la règle {flour} --> {eggs}, lift = 10,0)\n",
    "- **Pack \"Dîner italien\"** : Pâtes + sauce tomate (basé sur la règle {tomato_sauce} --> {pasta}, lift = 8,0)\n",
    "- **Pack \"Petit-déjeuner\"** : Céréales + lait (basé sur la règle {cereal} --> {milk}, lift = 4,44)\n",
    "\n",
    "#### 2. Placement en rayon\n",
    "\n",
    "- Placer les pâtes sur la même ligne que la sauce tomate (forte association bidirectionnelle)\n",
    "- Placer les céréales à proximité du lait, créant une zone petit-déjeuner\n",
    "- Créer une zone goûter, avec le thé et le miel à proximité\n",
    "\n",
    "#### 3. Recommandations personnalisées\n",
    "\n",
    "- Lorsqu'un client place un article dans son panier, suggérer des articles avec lesquels il a une corrélation selon les règles, par exemple :\n",
    "    - achat de farine --> suggérer des oeufs\n",
    "    - achat de sauce tomate --> suggérer différents types de pâtes\n",
    "    - achat de céréales --> suggérer du lait et des bananes\n",
    "    - achat de pain --> suggérer du fromage et des tomates\n",
    "- Inclure les paires mentionnées ci-dessus dans les programmes de fidélité en fonction de leurs habitudes d'achat\n",
    "\n",
    "#### 4. Règles intéressantes\n",
    "\n",
    "- Il y a 75% de chances qu'un client achète du lait lorsqu'il achète des bananes (règle : {banana} --> {milk}, lift = 3,33). Ceci n'est pas vraiment surprenant mais plutôt remarquable, car ce n'est pas une paire évidente.\n",
    "\n",
    "**Conclusion** : La majorité des règles sont cohérentes, ce qui valide la qualité du dataset et confirme que les clients ont un plan de repas en tête lorsqu'ils font leurs courses. La paire banane + lait représente la minorité qui pourrait être intéressée par des repas plus spécifiques, tels que des smoothies (et non de simples spaghettis bolognaise ou da la tartine à la confiture)."
   ]
  }
 ],
 "metadata": {
  "kernelspec": {
   "display_name": ".venv",
   "language": "python",
   "name": "python3"
  },
  "language_info": {
   "codemirror_mode": {
    "name": "ipython",
    "version": 3
   },
   "file_extension": ".py",
   "mimetype": "text/x-python",
   "name": "python",
   "nbconvert_exporter": "python",
   "pygments_lexer": "ipython3",
   "version": "3.12.3"
  }
 },
 "nbformat": 4,
 "nbformat_minor": 4
}
