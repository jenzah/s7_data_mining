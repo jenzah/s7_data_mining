{
  "cells": [
    {
      "cell_type": "markdown",
      "metadata": {
        "colab_type": "text",
        "id": "view-in-github"
      },
      "source": [
        "<a href=\"https://colab.research.google.com/github/jenzah/s7_data_mining/blob/main/data_preprocessing/Pr%C3%A9traitement_des_donn%C3%A9es.ipynb\" target=\"_parent\"><img src=\"https://colab.research.google.com/assets/colab-badge.svg\" alt=\"Open In Colab\"/></a>"
      ]
    },
    {
      "cell_type": "markdown",
      "metadata": {
        "id": "wR4uA8J60tnS"
      },
      "source": [
        "# 1. Nettoyage des données\n",
        "**A. Inspection des données**"
      ]
    },
    {
      "cell_type": "markdown",
      "metadata": {
        "id": "8feVxwiNxUQj"
      },
      "source": [
        "**Detection des anomalies (outliers) : Exemple de Boxplot**"
      ]
    },
    {
      "cell_type": "code",
      "execution_count": 1,
      "metadata": {
        "colab": {
          "base_uri": "https://localhost:8080/",
          "height": 521
        },
        "id": "PNuFRcmknGfZ",
        "outputId": "a7683b46-d200-43cd-a364-955080597050"
      },
      "outputs": [
        {
          "data": {
            "image/png": "[encoded data removed]",
            "text/plain": [
              "<Figure size 800x600 with 1 Axes>"
            ]
          },
          "metadata": {},
          "output_type": "display_data"
        }
      ],
      "source": [
        "import matplotlib.pyplot as plt\n",
        "\n",
        "# Exemple de données simulées\n",
        "data = [7, 8, 5, 6, 7, 8, 9, 10, 11, 7, 8, 7, 6, 5, 12, 15, 14, 8, 7, 6]\n",
        "\n",
        "# Création du boxplot\n",
        "plt.figure(figsize=(8,6))\n",
        "box = plt.boxplot(data, vert=True, patch_artist=True)\n",
        "\n",
        "# Récupérer les valeurs utiles\n",
        "import numpy as np\n",
        "Q1 = np.percentile(data, 25)\n",
        "Q2 = np.percentile(data, 50)\n",
        "Q3 = np.percentile(data, 75)\n",
        "IQR = Q3 - Q1\n",
        "lower_whisker = min([x for x in data if x >= Q1 - 1.5*IQR])\n",
        "upper_whisker = max([x for x in data if x <= Q3 + 1.5*IQR])\n",
        "\n",
        "# Ajouter des annotations\n",
        "plt.text(1.1, Q1, \"Q1 (25e percentile)\", fontsize=9, color=\"blue\")\n",
        "plt.text(1.1, Q2, \"Médiane (Q2)\", fontsize=9, color=\"red\")\n",
        "plt.text(1.1, Q3, \"Q3 (75e percentile)\", fontsize=9, color=\"blue\")\n",
        "plt.text(1.1, (Q1+Q3)/2, f\"IQR = {Q3:.1f} - {Q1:.1f}\", fontsize=9, color=\"green\")\n",
        "\n",
        "plt.text(1.1, lower_whisker, \"Moustache min\", fontsize=9, color=\"purple\")\n",
        "plt.text(1.1, upper_whisker, \"Moustache max\", fontsize=9, color=\"purple\")\n",
        "\n",
        "plt.title(\"Boxplot annoté : Q1, Q2, Q3, IQR et moustaches\")\n",
        "plt.ylabel(\"Valeurs\")\n",
        "plt.xticks([])\n",
        "\n",
        "plt.show()"
      ]
    },
    {
      "cell_type": "markdown",
      "metadata": {
        "id": "BQVCvCUvIiP2"
      },
      "source": [
        "**Exemple concret : prédire la réussite des étudiants**\n",
        "\n",
        "Imaginons un dataset avec ces variables :Âge, Sexe, Taille, Sport pratiqué, Nombre d’heures d’étude par semaine, Note finale (cible à prédire)\n",
        "Dans un dataset, toutes les variables ne sont pas utiles. L’objectif de la sélection est de garder seulement celles qui expliquent vraiment le phénomène étudié. Ça rend l’analyse plus claire, plus rapide et plus précise. »\n",
        "\n",
        "🔹 **Étape 1 : % valeurs manquantes**\n",
        "\n",
        "Si la variable taille est vide pour 70% des étudiants → elle est inutile.\n",
        "\n",
        "🔹 **Étape 2 : Variation**\n",
        "\n",
        "Si tout le monde a “Sexe = masculin” sauf 1 → cette variable n’apporte rien.\n",
        "\n",
        "🔹 **Étape 3 : Corrélation entre variables**\n",
        "\n",
        "Si on a nombre d’heures d’étude et temps de lecture par semaine, et qu’ils sont très corrélés, on garde une seule variable.\n",
        "\n",
        "🔹** Étape 4 : Corrélation avec la cible**\n",
        "\n",
        "Nombre d’heures d’étude est fortement lié à la note finale → utile.\n",
        "\n",
        "Taille n’a aucun lien avec la note finale → inutile.\n",
        "\n",
        "\n",
        "🔹**Étape 5 : Méthodes avancées**\n",
        "\n",
        "On peut utiliser un arbre de décision pour voir quelles variables expliquent le mieux la réussite.\n",
        "Ex. l’arbre montre que “heures d’étude” et “sport régulier” sont plus prédictifs que “sexe”."
      ]
    },
    {
      "cell_type": "code",
      "execution_count": 2,
      "metadata": {
        "colab": {
          "base_uri": "https://localhost:8080/"
        },
        "id": "mhV9zlmdIVtY",
        "outputId": "d783f0d6-89e9-4d2c-bd80-f1dc36e7584c"
      },
      "outputs": [
        {
          "name": "stdout",
          "output_type": "stream",
          "text": [
            "Aperçu du dataset :\n",
            "   age sexe  heures_etude  sport_regulier  temps_ecran  absences  taille_cm  \\\n",
            "0   19    M          10.0               1            1         3      164.0   \n",
            "1   27    F          16.0               0            5         5      154.0   \n",
            "2   25    M          16.0               1            1         8      177.0   \n",
            "3   23    M          11.0               0            5         5      191.0   \n",
            "4   23    M          21.0               0            5         5      193.0   \n",
            "\n",
            "   note_finale  reussite  \n",
            "0     9.987985         0  \n",
            "1     9.686451         0  \n",
            "2    11.114487         1  \n",
            "3    10.250803         1  \n",
            "4    12.294889         1   \n",
            "\n",
            "Pourcentage de valeurs manquantes (%):\n",
            "age                0.0\n",
            "sexe               0.0\n",
            "heures_etude       7.5\n",
            "sport_regulier     0.0\n",
            "temps_ecran        0.0\n",
            "absences           0.0\n",
            "taille_cm         12.5\n",
            "note_finale        0.0\n",
            "reussite           0.0\n",
            "dtype: float64 \n",
            "\n",
            "Variation (nunique / n):\n",
            "age               0.300\n",
            "sexe              0.050\n",
            "heures_etude      0.500\n",
            "sport_regulier    0.050\n",
            "temps_ecran       0.175\n",
            "absences          0.300\n",
            "taille_cm         0.600\n",
            "dtype: float64 \n",
            "\n",
            "Corrélation numérique (Pearson):\n",
            "               age  heures_etude  temps_ecran  absences  taille_cm  \\\n",
            "age           1.00          0.08         0.20      0.22       0.20   \n",
            "heures_etude  0.08          1.00         0.14      0.14       0.12   \n",
            "temps_ecran   0.20          0.14         1.00     -0.26       0.18   \n",
            "absences      0.22          0.14        -0.26      1.00       0.02   \n",
            "taille_cm     0.20          0.12         0.18      0.02       1.00   \n",
            "note_finale  -0.06          0.84         0.27     -0.16       0.10   \n",
            "\n",
            "              note_finale  \n",
            "age                 -0.06  \n",
            "heures_etude         0.84  \n",
            "temps_ecran          0.27  \n",
            "absences            -0.16  \n",
            "taille_cm            0.10  \n",
            "note_finale          1.00   \n",
            "\n",
            "Corrélation (approx) avec la cible 'reussite':\n",
            "reussite          1.00\n",
            "heures_etude      0.68\n",
            "temps_ecran       0.21\n",
            "taille_cm         0.15\n",
            "sport_regulier    0.02\n",
            "absences         -0.12\n",
            "age              -0.14\n",
            "Name: reussite, dtype: float64 \n",
            "\n"
          ]
        },
        {
          "data": {
            "text/html": [
              "<style>#sk-container-id-1 {\n",
              "  /* Definition of color scheme common for light and dark mode */\n",
              "  --sklearn-color-text: #000;\n",
              "  --sklearn-color-text-muted: #666;\n",
              "  --sklearn-color-line: gray;\n",
              "  /* Definition of color scheme for unfitted estimators */\n",
              "  --sklearn-color-unfitted-level-0: #fff5e6;\n",
              "  --sklearn-color-unfitted-level-1: #f6e4d2;\n",
              "  --sklearn-color-unfitted-level-2: #ffe0b3;\n",
              "  --sklearn-color-unfitted-level-3: chocolate;\n",
              "  /* Definition of color scheme for fitted estimators */\n",
              "  --sklearn-color-fitted-level-0: #f0f8ff;\n",
              "  --sklearn-color-fitted-level-1: #d4ebff;\n",
              "  --sklearn-color-fitted-level-2: #b3dbfd;\n",
              "  --sklearn-color-fitted-level-3: cornflowerblue;\n",
              "\n",
              "  /* Specific color for light theme */\n",
              "  --sklearn-color-text-on-default-background: var(--sg-text-color, var(--theme-code-foreground, var(--jp-content-font-color1, black)));\n",
              "  --sklearn-color-background: var(--sg-background-color, var(--theme-background, var(--jp-layout-color0, white)));\n",
              "  --sklearn-color-border-box: var(--sg-text-color, var(--theme-code-foreground, var(--jp-content-font-color1, black)));\n",
              "  --sklearn-color-icon: #696969;\n",
              "\n",
              "  @media (prefers-color-scheme: dark) {\n",
              "    /* Redefinition of color scheme for dark theme */\n",
              "    --sklearn-color-text-on-default-background: var(--sg-text-color, var(--theme-code-foreground, var(--jp-content-font-color1, white)));\n",
              "    --sklearn-color-background: var(--sg-background-color, var(--theme-background, var(--jp-layout-color0, #111)));\n",
              "    --sklearn-color-border-box: var(--sg-text-color, var(--theme-code-foreground, var(--jp-content-font-color1, white)));\n",
              "    --sklearn-color-icon: #878787;\n",
              "  }\n",
              "}\n",
              "\n",
              "#sk-container-id-1 {\n",
              "  color: var(--sklearn-color-text);\n",
              "}\n",
              "\n",
              "#sk-container-id-1 pre {\n",
              "  padding: 0;\n",
              "}\n",
              "\n",
              "#sk-container-id-1 input.sk-hidden--visually {\n",
              "  border: 0;\n",
              "  clip: rect(1px 1px 1px 1px);\n",
              "  clip: rect(1px, 1px, 1px, 1px);\n",
              "  height: 1px;\n",
              "  margin: -1px;\n",
              "  overflow: hidden;\n",
              "  padding: 0;\n",
              "  position: absolute;\n",
              "  width: 1px;\n",
              "}\n",
              "\n",
              "#sk-container-id-1 div.sk-dashed-wrapped {\n",
              "  border: 1px dashed var(--sklearn-color-line);\n",
              "  margin: 0 0.4em 0.5em 0.4em;\n",
              "  box-sizing: border-box;\n",
              "  padding-bottom: 0.4em;\n",
              "  background-color: var(--sklearn-color-background);\n",
              "}\n",
              "\n",
              "#sk-container-id-1 div.sk-container {\n",
              "  /* jupyter's `normalize.less` sets `[hidden] { display: none; }`\n",
              "     but bootstrap.min.css set `[hidden] { display: none !important; }`\n",
              "     so we also need the `!important` here to be able to override the\n",
              "     default hidden behavior on the sphinx rendered scikit-learn.org.\n",
              "     See: https://github.com/scikit-learn/scikit-learn/issues/21755 */\n",
              "  display: inline-block !important;\n",
              "  position: relative;\n",
              "}\n",
              "\n",
              "#sk-container-id-1 div.sk-text-repr-fallback {\n",
              "  display: none;\n",
              "}\n",
              "\n",
              "div.sk-parallel-item,\n",
              "div.sk-serial,\n",
              "div.sk-item {\n",
              "  /* draw centered vertical line to link estimators */\n",
              "  background-image: linear-gradient(var(--sklearn-color-text-on-default-background), var(--sklearn-color-text-on-default-background));\n",
              "  background-size: 2px 100%;\n",
              "  background-repeat: no-repeat;\n",
              "  background-position: center center;\n",
              "}\n",
              "\n",
              "/* Parallel-specific style estimator block */\n",
              "\n",
              "#sk-container-id-1 div.sk-parallel-item::after {\n",
              "  content: \"\";\n",
              "  width: 100%;\n",
              "  border-bottom: 2px solid var(--sklearn-color-text-on-default-background);\n",
              "  flex-grow: 1;\n",
              "}\n",
              "\n",
              "#sk-container-id-1 div.sk-parallel {\n",
              "  display: flex;\n",
              "  align-items: stretch;\n",
              "  justify-content: center;\n",
              "  background-color: var(--sklearn-color-background);\n",
              "  position: relative;\n",
              "}\n",
              "\n",
              "#sk-container-id-1 div.sk-parallel-item {\n",
              "  display: flex;\n",
              "  flex-direction: column;\n",
              "}\n",
              "\n",
              "#sk-container-id-1 div.sk-parallel-item:first-child::after {\n",
              "  align-self: flex-end;\n",
              "  width: 50%;\n",
              "}\n",
              "\n",
              "#sk-container-id-1 div.sk-parallel-item:last-child::after {\n",
              "  align-self: flex-start;\n",
              "  width: 50%;\n",
              "}\n",
              "\n",
              "#sk-container-id-1 div.sk-parallel-item:only-child::after {\n",
              "  width: 0;\n",
              "}\n",
              "\n",
              "/* Serial-specific style estimator block */\n",
              "\n",
              "#sk-container-id-1 div.sk-serial {\n",
              "  display: flex;\n",
              "  flex-direction: column;\n",
              "  align-items: center;\n",
              "  background-color: var(--sklearn-color-background);\n",
              "  padding-right: 1em;\n",
              "  padding-left: 1em;\n",
              "}\n",
              "\n",
              "\n",
              "/* Toggleable style: style used for estimator/Pipeline/ColumnTransformer box that is\n",
              "clickable and can be expanded/collapsed.\n",
              "- Pipeline and ColumnTransformer use this feature and define the default style\n",
              "- Estimators will overwrite some part of the style using the `sk-estimator` class\n",
              "*/\n",
              "\n",
              "/* Pipeline and ColumnTransformer style (default) */\n",
              "\n",
              "#sk-container-id-1 div.sk-toggleable {\n",
              "  /* Default theme specific background. It is overwritten whether we have a\n",
              "  specific estimator or a Pipeline/ColumnTransformer */\n",
              "  background-color: var(--sklearn-color-background);\n",
              "}\n",
              "\n",
              "/* Toggleable label */\n",
              "#sk-container-id-1 label.sk-toggleable__label {\n",
              "  cursor: pointer;\n",
              "  display: flex;\n",
              "  width: 100%;\n",
              "  margin-bottom: 0;\n",
              "  padding: 0.5em;\n",
              "  box-sizing: border-box;\n",
              "  text-align: center;\n",
              "  align-items: start;\n",
              "  justify-content: space-between;\n",
              "  gap: 0.5em;\n",
              "}\n",
              "\n",
              "#sk-container-id-1 label.sk-toggleable__label .caption {\n",
              "  font-size: 0.6rem;\n",
              "  font-weight: lighter;\n",
              "  color: var(--sklearn-color-text-muted);\n",
              "}\n",
              "\n",
              "#sk-container-id-1 label.sk-toggleable__label-arrow:before {\n",
              "  /* Arrow on the left of the label */\n",
              "  content: \"▸\";\n",
              "  float: left;\n",
              "  margin-right: 0.25em;\n",
              "  color: var(--sklearn-color-icon);\n",
              "}\n",
              "\n",
              "#sk-container-id-1 label.sk-toggleable__label-arrow:hover:before {\n",
              "  color: var(--sklearn-color-text);\n",
              "}\n",
              "\n",
              "/* Toggleable content - dropdown */\n",
              "\n",
              "#sk-container-id-1 div.sk-toggleable__content {\n",
              "  display: none;\n",
              "  text-align: left;\n",
              "  /* unfitted */\n",
              "  background-color: var(--sklearn-color-unfitted-level-0);\n",
              "}\n",
              "\n",
              "#sk-container-id-1 div.sk-toggleable__content.fitted {\n",
              "  /* fitted */\n",
              "  background-color: var(--sklearn-color-fitted-level-0);\n",
              "}\n",
              "\n",
              "#sk-container-id-1 div.sk-toggleable__content pre {\n",
              "  margin: 0.2em;\n",
              "  border-radius: 0.25em;\n",
              "  color: var(--sklearn-color-text);\n",
              "  /* unfitted */\n",
              "  background-color: var(--sklearn-color-unfitted-level-0);\n",
              "}\n",
              "\n",
              "#sk-container-id-1 div.sk-toggleable__content.fitted pre {\n",
              "  /* unfitted */\n",
              "  background-color: var(--sklearn-color-fitted-level-0);\n",
              "}\n",
              "\n",
              "#sk-container-id-1 input.sk-toggleable__control:checked~div.sk-toggleable__content {\n",
              "  /* Expand drop-down */\n",
              "  display: block;\n",
              "  width: 100%;\n",
              "  overflow: visible;\n",
              "}\n",
              "\n",
              "#sk-container-id-1 input.sk-toggleable__control:checked~label.sk-toggleable__label-arrow:before {\n",
              "  content: \"▾\";\n",
              "}\n",
              "\n",
              "/* Pipeline/ColumnTransformer-specific style */\n",
              "\n",
              "#sk-container-id-1 div.sk-label input.sk-toggleable__control:checked~label.sk-toggleable__label {\n",
              "  color: var(--sklearn-color-text);\n",
              "  background-color: var(--sklearn-color-unfitted-level-2);\n",
              "}\n",
              "\n",
              "#sk-container-id-1 div.sk-label.fitted input.sk-toggleable__control:checked~label.sk-toggleable__label {\n",
              "  background-color: var(--sklearn-color-fitted-level-2);\n",
              "}\n",
              "\n",
              "/* Estimator-specific style */\n",
              "\n",
              "/* Colorize estimator box */\n",
              "#sk-container-id-1 div.sk-estimator input.sk-toggleable__control:checked~label.sk-toggleable__label {\n",
              "  /* unfitted */\n",
              "  background-color: var(--sklearn-color-unfitted-level-2);\n",
              "}\n",
              "\n",
              "#sk-container-id-1 div.sk-estimator.fitted input.sk-toggleable__control:checked~label.sk-toggleable__label {\n",
              "  /* fitted */\n",
              "  background-color: var(--sklearn-color-fitted-level-2);\n",
              "}\n",
              "\n",
              "#sk-container-id-1 div.sk-label label.sk-toggleable__label,\n",
              "#sk-container-id-1 div.sk-label label {\n",
              "  /* The background is the default theme color */\n",
              "  color: var(--sklearn-color-text-on-default-background);\n",
              "}\n",
              "\n",
              "/* On hover, darken the color of the background */\n",
              "#sk-container-id-1 div.sk-label:hover label.sk-toggleable__label {\n",
              "  color: var(--sklearn-color-text);\n",
              "  background-color: var(--sklearn-color-unfitted-level-2);\n",
              "}\n",
              "\n",
              "/* Label box, darken color on hover, fitted */\n",
              "#sk-container-id-1 div.sk-label.fitted:hover label.sk-toggleable__label.fitted {\n",
              "  color: var(--sklearn-color-text);\n",
              "  background-color: var(--sklearn-color-fitted-level-2);\n",
              "}\n",
              "\n",
              "/* Estimator label */\n",
              "\n",
              "#sk-container-id-1 div.sk-label label {\n",
              "  font-family: monospace;\n",
              "  font-weight: bold;\n",
              "  display: inline-block;\n",
              "  line-height: 1.2em;\n",
              "}\n",
              "\n",
              "#sk-container-id-1 div.sk-label-container {\n",
              "  text-align: center;\n",
              "}\n",
              "\n",
              "/* Estimator-specific */\n",
              "#sk-container-id-1 div.sk-estimator {\n",
              "  font-family: monospace;\n",
              "  border: 1px dotted var(--sklearn-color-border-box);\n",
              "  border-radius: 0.25em;\n",
              "  box-sizing: border-box;\n",
              "  margin-bottom: 0.5em;\n",
              "  /* unfitted */\n",
              "  background-color: var(--sklearn-color-unfitted-level-0);\n",
              "}\n",
              "\n",
              "#sk-container-id-1 div.sk-estimator.fitted {\n",
              "  /* fitted */\n",
              "  background-color: var(--sklearn-color-fitted-level-0);\n",
              "}\n",
              "\n",
              "/* on hover */\n",
              "#sk-container-id-1 div.sk-estimator:hover {\n",
              "  /* unfitted */\n",
              "  background-color: var(--sklearn-color-unfitted-level-2);\n",
              "}\n",
              "\n",
              "#sk-container-id-1 div.sk-estimator.fitted:hover {\n",
              "  /* fitted */\n",
              "  background-color: var(--sklearn-color-fitted-level-2);\n",
              "}\n",
              "\n",
              "/* Specification for estimator info (e.g. \"i\" and \"?\") */\n",
              "\n",
              "/* Common style for \"i\" and \"?\" */\n",
              "\n",
              ".sk-estimator-doc-link,\n",
              "a:link.sk-estimator-doc-link,\n",
              "a:visited.sk-estimator-doc-link {\n",
              "  float: right;\n",
              "  font-size: smaller;\n",
              "  line-height: 1em;\n",
              "  font-family: monospace;\n",
              "  background-color: var(--sklearn-color-background);\n",
              "  border-radius: 1em;\n",
              "  height: 1em;\n",
              "  width: 1em;\n",
              "  text-decoration: none !important;\n",
              "  margin-left: 0.5em;\n",
              "  text-align: center;\n",
              "  /* unfitted */\n",
              "  border: var(--sklearn-color-unfitted-level-1) 1pt solid;\n",
              "  color: var(--sklearn-color-unfitted-level-1);\n",
              "}\n",
              "\n",
              ".sk-estimator-doc-link.fitted,\n",
              "a:link.sk-estimator-doc-link.fitted,\n",
              "a:visited.sk-estimator-doc-link.fitted {\n",
              "  /* fitted */\n",
              "  border: var(--sklearn-color-fitted-level-1) 1pt solid;\n",
              "  color: var(--sklearn-color-fitted-level-1);\n",
              "}\n",
              "\n",
              "/* On hover */\n",
              "div.sk-estimator:hover .sk-estimator-doc-link:hover,\n",
              ".sk-estimator-doc-link:hover,\n",
              "div.sk-label-container:hover .sk-estimator-doc-link:hover,\n",
              ".sk-estimator-doc-link:hover {\n",
              "  /* unfitted */\n",
              "  background-color: var(--sklearn-color-unfitted-level-3);\n",
              "  color: var(--sklearn-color-background);\n",
              "  text-decoration: none;\n",
              "}\n",
              "\n",
              "div.sk-estimator.fitted:hover .sk-estimator-doc-link.fitted:hover,\n",
              ".sk-estimator-doc-link.fitted:hover,\n",
              "div.sk-label-container:hover .sk-estimator-doc-link.fitted:hover,\n",
              ".sk-estimator-doc-link.fitted:hover {\n",
              "  /* fitted */\n",
              "  background-color: var(--sklearn-color-fitted-level-3);\n",
              "  color: var(--sklearn-color-background);\n",
              "  text-decoration: none;\n",
              "}\n",
              "\n",
              "/* Span, style for the box shown on hovering the info icon */\n",
              ".sk-estimator-doc-link span {\n",
              "  display: none;\n",
              "  z-index: 9999;\n",
              "  position: relative;\n",
              "  font-weight: normal;\n",
              "  right: .2ex;\n",
              "  padding: .5ex;\n",
              "  margin: .5ex;\n",
              "  width: min-content;\n",
              "  min-width: 20ex;\n",
              "  max-width: 50ex;\n",
              "  color: var(--sklearn-color-text);\n",
              "  box-shadow: 2pt 2pt 4pt #999;\n",
              "  /* unfitted */\n",
              "  background: var(--sklearn-color-unfitted-level-0);\n",
              "  border: .5pt solid var(--sklearn-color-unfitted-level-3);\n",
              "}\n",
              "\n",
              ".sk-estimator-doc-link.fitted span {\n",
              "  /* fitted */\n",
              "  background: var(--sklearn-color-fitted-level-0);\n",
              "  border: var(--sklearn-color-fitted-level-3);\n",
              "}\n",
              "\n",
              ".sk-estimator-doc-link:hover span {\n",
              "  display: block;\n",
              "}\n",
              "\n",
              "/* \"?\"-specific style due to the `<a>` HTML tag */\n",
              "\n",
              "#sk-container-id-1 a.estimator_doc_link {\n",
              "  float: right;\n",
              "  font-size: 1rem;\n",
              "  line-height: 1em;\n",
              "  font-family: monospace;\n",
              "  background-color: var(--sklearn-color-background);\n",
              "  border-radius: 1rem;\n",
              "  height: 1rem;\n",
              "  width: 1rem;\n",
              "  text-decoration: none;\n",
              "  /* unfitted */\n",
              "  color: var(--sklearn-color-unfitted-level-1);\n",
              "  border: var(--sklearn-color-unfitted-level-1) 1pt solid;\n",
              "}\n",
              "\n",
              "#sk-container-id-1 a.estimator_doc_link.fitted {\n",
              "  /* fitted */\n",
              "  border: var(--sklearn-color-fitted-level-1) 1pt solid;\n",
              "  color: var(--sklearn-color-fitted-level-1);\n",
              "}\n",
              "\n",
              "/* On hover */\n",
              "#sk-container-id-1 a.estimator_doc_link:hover {\n",
              "  /* unfitted */\n",
              "  background-color: var(--sklearn-color-unfitted-level-3);\n",
              "  color: var(--sklearn-color-background);\n",
              "  text-decoration: none;\n",
              "}\n",
              "\n",
              "#sk-container-id-1 a.estimator_doc_link.fitted:hover {\n",
              "  /* fitted */\n",
              "  background-color: var(--sklearn-color-fitted-level-3);\n",
              "}\n",
              "\n",
              ".estimator-table summary {\n",
              "    padding: .5rem;\n",
              "    font-family: monospace;\n",
              "    cursor: pointer;\n",
              "}\n",
              "\n",
              ".estimator-table details[open] {\n",
              "    padding-left: 0.1rem;\n",
              "    padding-right: 0.1rem;\n",
              "    padding-bottom: 0.3rem;\n",
              "}\n",
              "\n",
              ".estimator-table .parameters-table {\n",
              "    margin-left: auto !important;\n",
              "    margin-right: auto !important;\n",
              "}\n",
              "\n",
              ".estimator-table .parameters-table tr:nth-child(odd) {\n",
              "    background-color: #fff;\n",
              "}\n",
              "\n",
              ".estimator-table .parameters-table tr:nth-child(even) {\n",
              "    background-color: #f6f6f6;\n",
              "}\n",
              "\n",
              ".estimator-table .parameters-table tr:hover {\n",
              "    background-color: #e0e0e0;\n",
              "}\n",
              "\n",
              ".estimator-table table td {\n",
              "    border: 1px solid rgba(106, 105, 104, 0.232);\n",
              "}\n",
              "\n",
              ".user-set td {\n",
              "    color:rgb(255, 94, 0);\n",
              "    text-align: left;\n",
              "}\n",
              "\n",
              ".user-set td.value pre {\n",
              "    color:rgb(255, 94, 0) !important;\n",
              "    background-color: transparent !important;\n",
              "}\n",
              "\n",
              ".default td {\n",
              "    color: black;\n",
              "    text-align: left;\n",
              "}\n",
              "\n",
              ".user-set td i,\n",
              ".default td i {\n",
              "    color: black;\n",
              "}\n",
              "\n",
              ".copy-paste-icon {\n",
              "    background-image: url(data:image/svg+xml;base64,PHN2ZyB4bWxucz0iaHR0cDovL3d3dy53My5vcmcvMjAwMC9zdmciIHZpZXdCb3g9IjAgMCA0NDggNTEyIj48IS0tIUZvbnQgQXdlc29tZSBGcmVlIDYuNy4yIGJ5IEBmb250YXdlc29tZSAtIGh0dHBzOi8vZm9udGF3ZXNvbWUuY29tIExpY2Vuc2UgLSBodHRwczovL2ZvbnRhd2Vzb21lLmNvbS9saWNlbnNlL2ZyZWUgQ29weXJpZ2h0IDIwMjUgRm9udGljb25zLCBJbmMuLS0+PHBhdGggZD0iTTIwOCAwTDMzMi4xIDBjMTIuNyAwIDI0LjkgNS4xIDMzLjkgMTQuMWw2Ny45IDY3LjljOSA5IDE0LjEgMjEuMiAxNC4xIDMzLjlMNDQ4IDMzNmMwIDI2LjUtMjEuNSA0OC00OCA0OGwtMTkyIDBjLTI2LjUgMC00OC0yMS41LTQ4LTQ4bDAtMjg4YzAtMjYuNSAyMS41LTQ4IDQ4LTQ4ek00OCAxMjhsODAgMCAwIDY0LTY0IDAgMCAyNTYgMTkyIDAgMC0zMiA2NCAwIDAgNDhjMCAyNi41LTIxLjUgNDgtNDggNDhMNDggNTEyYy0yNi41IDAtNDgtMjEuNS00OC00OEwwIDE3NmMwLTI2LjUgMjEuNS00OCA0OC00OHoiLz48L3N2Zz4=);\n",
              "    background-repeat: no-repeat;\n",
              "    background-size: 14px 14px;\n",
              "    background-position: 0;\n",
              "    display: inline-block;\n",
              "    width: 14px;\n",
              "    height: 14px;\n",
              "    cursor: pointer;\n",
              "}\n",
              "</style><body><div id=\"sk-container-id-1\" class=\"sk-top-container\"><div class=\"sk-text-repr-fallback\"><pre>DecisionTreeClassifier(max_depth=3, random_state=0)</pre><b>In a Jupyter environment, please rerun this cell to show the HTML representation or trust the notebook. <br />On GitHub, the HTML representation is unable to render, please try loading this page with nbviewer.org.</b></div><div class=\"sk-container\" hidden><div class=\"sk-item\"><div class=\"sk-estimator fitted sk-toggleable\"><input class=\"sk-toggleable__control sk-hidden--visually\" id=\"sk-estimator-id-1\" type=\"checkbox\" checked><label for=\"sk-estimator-id-1\" class=\"sk-toggleable__label fitted sk-toggleable__label-arrow\"><div><div>DecisionTreeClassifier</div></div><div><a class=\"sk-estimator-doc-link fitted\" rel=\"noreferrer\" target=\"_blank\" href=\"https://scikit-learn.org/1.7/modules/generated/sklearn.tree.DecisionTreeClassifier.html\">?<span>Documentation for DecisionTreeClassifier</span></a><span class=\"sk-estimator-doc-link fitted\">i<span>Fitted</span></span></div></label><div class=\"sk-toggleable__content fitted\" data-param-prefix=\"\">\n",
              "        <div class=\"estimator-table\">\n",
              "            <details>\n",
              "                <summary>Parameters</summary>\n",
              "                <table class=\"parameters-table\">\n",
              "                  <tbody>\n",
              "                    \n",
              "        <tr class=\"default\">\n",
              "            <td><i class=\"copy-paste-icon\"\n",
              "                 onclick=\"copyToClipboard('criterion',\n",
              "                          this.parentElement.nextElementSibling)\"\n",
              "            ></i></td>\n",
              "            <td class=\"param\">criterion&nbsp;</td>\n",
              "            <td class=\"value\">&#x27;gini&#x27;</td>\n",
              "        </tr>\n",
              "    \n",
              "\n",
              "        <tr class=\"default\">\n",
              "            <td><i class=\"copy-paste-icon\"\n",
              "                 onclick=\"copyToClipboard('splitter',\n",
              "                          this.parentElement.nextElementSibling)\"\n",
              "            ></i></td>\n",
              "            <td class=\"param\">splitter&nbsp;</td>\n",
              "            <td class=\"value\">&#x27;best&#x27;</td>\n",
              "        </tr>\n",
              "    \n",
              "\n",
              "        <tr class=\"user-set\">\n",
              "            <td><i class=\"copy-paste-icon\"\n",
              "                 onclick=\"copyToClipboard('max_depth',\n",
              "                          this.parentElement.nextElementSibling)\"\n",
              "            ></i></td>\n",
              "            <td class=\"param\">max_depth&nbsp;</td>\n",
              "            <td class=\"value\">3</td>\n",
              "        </tr>\n",
              "    \n",
              "\n",
              "        <tr class=\"default\">\n",
              "            <td><i class=\"copy-paste-icon\"\n",
              "                 onclick=\"copyToClipboard('min_samples_split',\n",
              "                          this.parentElement.nextElementSibling)\"\n",
              "            ></i></td>\n",
              "            <td class=\"param\">min_samples_split&nbsp;</td>\n",
              "            <td class=\"value\">2</td>\n",
              "        </tr>\n",
              "    \n",
              "\n",
              "        <tr class=\"default\">\n",
              "            <td><i class=\"copy-paste-icon\"\n",
              "                 onclick=\"copyToClipboard('min_samples_leaf',\n",
              "                          this.parentElement.nextElementSibling)\"\n",
              "            ></i></td>\n",
              "            <td class=\"param\">min_samples_leaf&nbsp;</td>\n",
              "            <td class=\"value\">1</td>\n",
              "        </tr>\n",
              "    \n",
              "\n",
              "        <tr class=\"default\">\n",
              "            <td><i class=\"copy-paste-icon\"\n",
              "                 onclick=\"copyToClipboard('min_weight_fraction_leaf',\n",
              "                          this.parentElement.nextElementSibling)\"\n",
              "            ></i></td>\n",
              "            <td class=\"param\">min_weight_fraction_leaf&nbsp;</td>\n",
              "            <td class=\"value\">0.0</td>\n",
              "        </tr>\n",
              "    \n",
              "\n",
              "        <tr class=\"default\">\n",
              "            <td><i class=\"copy-paste-icon\"\n",
              "                 onclick=\"copyToClipboard('max_features',\n",
              "                          this.parentElement.nextElementSibling)\"\n",
              "            ></i></td>\n",
              "            <td class=\"param\">max_features&nbsp;</td>\n",
              "            <td class=\"value\">None</td>\n",
              "        </tr>\n",
              "    \n",
              "\n",
              "        <tr class=\"user-set\">\n",
              "            <td><i class=\"copy-paste-icon\"\n",
              "                 onclick=\"copyToClipboard('random_state',\n",
              "                          this.parentElement.nextElementSibling)\"\n",
              "            ></i></td>\n",
              "            <td class=\"param\">random_state&nbsp;</td>\n",
              "            <td class=\"value\">0</td>\n",
              "        </tr>\n",
              "    \n",
              "\n",
              "        <tr class=\"default\">\n",
              "            <td><i class=\"copy-paste-icon\"\n",
              "                 onclick=\"copyToClipboard('max_leaf_nodes',\n",
              "                          this.parentElement.nextElementSibling)\"\n",
              "            ></i></td>\n",
              "            <td class=\"param\">max_leaf_nodes&nbsp;</td>\n",
              "            <td class=\"value\">None</td>\n",
              "        </tr>\n",
              "    \n",
              "\n",
              "        <tr class=\"default\">\n",
              "            <td><i class=\"copy-paste-icon\"\n",
              "                 onclick=\"copyToClipboard('min_impurity_decrease',\n",
              "                          this.parentElement.nextElementSibling)\"\n",
              "            ></i></td>\n",
              "            <td class=\"param\">min_impurity_decrease&nbsp;</td>\n",
              "            <td class=\"value\">0.0</td>\n",
              "        </tr>\n",
              "    \n",
              "\n",
              "        <tr class=\"default\">\n",
              "            <td><i class=\"copy-paste-icon\"\n",
              "                 onclick=\"copyToClipboard('class_weight',\n",
              "                          this.parentElement.nextElementSibling)\"\n",
              "            ></i></td>\n",
              "            <td class=\"param\">class_weight&nbsp;</td>\n",
              "            <td class=\"value\">None</td>\n",
              "        </tr>\n",
              "    \n",
              "\n",
              "        <tr class=\"default\">\n",
              "            <td><i class=\"copy-paste-icon\"\n",
              "                 onclick=\"copyToClipboard('ccp_alpha',\n",
              "                          this.parentElement.nextElementSibling)\"\n",
              "            ></i></td>\n",
              "            <td class=\"param\">ccp_alpha&nbsp;</td>\n",
              "            <td class=\"value\">0.0</td>\n",
              "        </tr>\n",
              "    \n",
              "\n",
              "        <tr class=\"default\">\n",
              "            <td><i class=\"copy-paste-icon\"\n",
              "                 onclick=\"copyToClipboard('monotonic_cst',\n",
              "                          this.parentElement.nextElementSibling)\"\n",
              "            ></i></td>\n",
              "            <td class=\"param\">monotonic_cst&nbsp;</td>\n",
              "            <td class=\"value\">None</td>\n",
              "        </tr>\n",
              "    \n",
              "                  </tbody>\n",
              "                </table>\n",
              "            </details>\n",
              "        </div>\n",
              "    </div></div></div></div></div><script>function copyToClipboard(text, element) {\n",
              "    // Get the parameter prefix from the closest toggleable content\n",
              "    const toggleableContent = element.closest('.sk-toggleable__content');\n",
              "    const paramPrefix = toggleableContent ? toggleableContent.dataset.paramPrefix : '';\n",
              "    const fullParamName = paramPrefix ? `${paramPrefix}${text}` : text;\n",
              "\n",
              "    const originalStyle = element.style;\n",
              "    const computedStyle = window.getComputedStyle(element);\n",
              "    const originalWidth = computedStyle.width;\n",
              "    const originalHTML = element.innerHTML.replace('Copied!', '');\n",
              "\n",
              "    navigator.clipboard.writeText(fullParamName)\n",
              "        .then(() => {\n",
              "            element.style.width = originalWidth;\n",
              "            element.style.color = 'green';\n",
              "            element.innerHTML = \"Copied!\";\n",
              "\n",
              "            setTimeout(() => {\n",
              "                element.innerHTML = originalHTML;\n",
              "                element.style = originalStyle;\n",
              "            }, 2000);\n",
              "        })\n",
              "        .catch(err => {\n",
              "            console.error('Failed to copy:', err);\n",
              "            element.style.color = 'red';\n",
              "            element.innerHTML = \"Failed!\";\n",
              "            setTimeout(() => {\n",
              "                element.innerHTML = originalHTML;\n",
              "                element.style = originalStyle;\n",
              "            }, 2000);\n",
              "        });\n",
              "    return false;\n",
              "}\n",
              "\n",
              "document.querySelectorAll('.fa-regular.fa-copy').forEach(function(element) {\n",
              "    const toggleableContent = element.closest('.sk-toggleable__content');\n",
              "    const paramPrefix = toggleableContent ? toggleableContent.dataset.paramPrefix : '';\n",
              "    const paramName = element.parentElement.nextElementSibling.textContent.trim();\n",
              "    const fullParamName = paramPrefix ? `${paramPrefix}${paramName}` : paramName;\n",
              "\n",
              "    element.setAttribute('title', fullParamName);\n",
              "});\n",
              "</script></body>"
            ],
            "text/plain": [
              "DecisionTreeClassifier(max_depth=3, random_state=0)"
            ]
          },
          "execution_count": 2,
          "metadata": {},
          "output_type": "execute_result"
        }
      ],
      "source": [
        "import numpy as np\n",
        "import pandas as pd\n",
        "from sklearn.model_selection import train_test_split\n",
        "from sklearn.tree import DecisionTreeClassifier\n",
        "from sklearn.metrics import classification_report\n",
        "\n",
        "# -----------------------------\n",
        "# 1) Génération d’un mini-dataset\n",
        "# -----------------------------\n",
        "rng = np.random.default_rng(42)\n",
        "n = 40\n",
        "\n",
        "df = pd.DataFrame({\n",
        "    \"age\": rng.integers(18, 30, size=n),\n",
        "    \"sexe\": rng.choice([\"F\", \"M\"], size=n, p=[0.45, 0.55]),\n",
        "    \"heures_etude\": rng.integers(0, 25, size=n),\n",
        "    \"sport_regulier\": rng.choice([0, 1], size=n, p=[0.6, 0.4]),\n",
        "    \"temps_ecran\": rng.integers(1, 8, size=n),        # heures/jour\n",
        "    \"absences\": rng.integers(0, 12, size=n),\n",
        "    \"taille_cm\": rng.integers(150, 195, size=n),      # variable plutôt non pertinente\n",
        "})\n",
        "\n",
        "# Cible (note finale + réussite):\n",
        "note = (\n",
        "    6\n",
        "    + 0.4*df[\"heures_etude\"]\n",
        "    - 0.2*df[\"temps_ecran\"]\n",
        "    - 0.3*df[\"absences\"]\n",
        "    + 0.8*df[\"sport_regulier\"]\n",
        "    + rng.normal(0, 1.8, size=n)\n",
        ")\n",
        "df[\"note_finale\"] = np.clip(note, 0, 20)\n",
        "df[\"reussite\"] = (df[\"note_finale\"] >= 10).astype(int)\n",
        "\n",
        "# Introduire quelques valeurs manquantes artificielles\n",
        "df.loc[rng.choice(df.index, 5, replace=False), \"taille_cm\"] = np.nan\n",
        "df.loc[rng.choice(df.index, 3, replace=False), \"heures_etude\"] = np.nan\n",
        "\n",
        "print(\"Aperçu du dataset :\")\n",
        "print(df.head(), \"\\n\")\n",
        "\n",
        "# -------------------------------------------\n",
        "# 2) Contrôles rapides pour la sélection de vars\n",
        "# -------------------------------------------\n",
        "\n",
        "# a) % de valeurs manquantes par variable\n",
        "print(\"Pourcentage de valeurs manquantes (%):\")\n",
        "print((df.isna().mean()*100).round(1), \"\\n\")\n",
        "\n",
        "# b) Variation: ratio de modalités/valeurs uniques\n",
        "def variation_ratio(s: pd.Series) -> float:\n",
        "    return s.nunique(dropna=True) / len(s)\n",
        "\n",
        "print(\"Variation (nunique / n):\")\n",
        "print(df.drop(columns=[\"note_finale\",\"reussite\"]).apply(variation_ratio).round(3), \"\\n\")\n",
        "\n",
        "# c) Corrélations entre variables numériques\n",
        "num_cols = [\"age\",\"heures_etude\",\"temps_ecran\",\"absences\",\"taille_cm\",\"note_finale\"]\n",
        "print(\"Corrélation numérique (Pearson):\")\n",
        "print(df[num_cols].corr(numeric_only=True).round(2), \"\\n\")\n",
        "\n",
        "# d) Corrélation avec la cible (point-biserial approx via corr Pearson sur 0/1)\n",
        "target_corr = df.drop(columns=[\"note_finale\"]).assign(reussite=df[\"reussite\"])\n",
        "print(\"Corrélation (approx) avec la cible 'reussite':\")\n",
        "print(target_corr.corr(numeric_only=True)[\"reussite\"].sort_values(ascending=False).round(2), \"\\n\")\n",
        "\n",
        "# -------------------------------------------\n",
        "# 3) Importance via modèle arbre de décision\n",
        "# -------------------------------------------\n",
        "# Encodage minimal pour 'sexe'\n",
        "df_enc = df.copy()\n",
        "df_enc[\"sexe\"] = df_enc[\"sexe\"].map({\"F\":0,\"M\":1})\n",
        "\n",
        "X = df_enc[[\"age\",\"sexe\",\"heures_etude\",\"sport_regulier\",\"temps_ecran\",\"absences\",\"taille_cm\"]]\n",
        "y = df_enc[\"reussite\"]\n",
        "\n",
        "# Imputation simple (remplacer NA par médiane)\n",
        "X = X.fillna(X.median(numeric_only=True))\n",
        "\n",
        "X_train, X_test, y_train, y_test = train_test_split(X, y, test_size=0.3, random_state=0, stratify=y)\n",
        "clf = DecisionTreeClassifier(max_depth=3, random_state=0)\n",
        "clf.fit(X_train, y_train)\n",
        "\n",
        "#print(\"Importance des variables (arbre de décision):\")\n",
        "#for name, imp in sorted(zip(X.columns, clf.feature_importances_), key=lambda t: -t[1]):\n",
        " #   print(f\"  {name:15s}  {imp:.3f}\")\n",
        "\n",
        "#print(\"\\nÉvaluation rapide sur le test :\")\n",
        "#print(classification_report(y_test, clf.predict(X_test)))\n"
      ]
    },
    {
      "cell_type": "markdown",
      "metadata": {
        "id": "VSMqOzIOvqoz"
      },
      "source": [
        "**Feature selection avec california housing dataset**"
      ]
    },
    {
      "cell_type": "code",
      "execution_count": 3,
      "metadata": {
        "colab": {
          "base_uri": "https://localhost:8080/"
        },
        "id": "sM-IfNKjtIHn",
        "outputId": "6a3e180e-41f5-46bf-f4e8-0afd669270fb"
      },
      "outputs": [
        {
          "name": "stdout",
          "output_type": "stream",
          "text": [
            "Variables sélectionnées : ['MedInc', 'HouseAge', 'Population', 'MedHouseVal']\n"
          ]
        }
      ],
      "source": [
        "import pandas as pd\n",
        "from sklearn.datasets import fetch_california_housing\n",
        "from sklearn.linear_model import LassoCV\n",
        "\n",
        "# Charger dataset California Housing\n",
        "housing = fetch_california_housing(as_frame=True)\n",
        "df = housing.frame   # DataFrame avec X et y inclus\n",
        "df[\"target\"] = housing.target\n",
        "\n",
        "# Définir X et y\n",
        "X = df.drop(\"target\", axis=1)\n",
        "y = df[\"target\"]\n",
        "\n",
        "# LASSO\n",
        "lasso = LassoCV(cv=5, random_state=0)\n",
        "lasso.fit(X, y)\n",
        "\n",
        "# Variables sélectionnées\n",
        "selected_features = X.columns[(lasso.coef_ != 0)]\n",
        "print(\"Variables sélectionnées :\", list(selected_features))\n"
      ]
    },
    {
      "cell_type": "markdown",
      "metadata": {
        "id": "QO-dTyM1vxkg"
      },
      "source": [
        "**Feature selection avec Titanic dataset**"
      ]
    },
    {
      "cell_type": "code",
      "execution_count": 4,
      "metadata": {
        "colab": {
          "base_uri": "https://localhost:8080/"
        },
        "id": "QrBOpxzmv3WC",
        "outputId": "e37fd92e-a6b5-47c8-e709-896800ddd80f"
      },
      "outputs": [
        {
          "name": "stdout",
          "output_type": "stream",
          "text": [
            "Nb features totales : 24\n",
            "Nb features sélectionnées (coef != 0) : 24\n",
            "\n",
            "Features sélectionnées :\n",
            "- num__age\n",
            "- num__sibsp\n",
            "- num__parch\n",
            "- num__fare\n",
            "- num__pclass\n",
            "- cat__sex_female\n",
            "- cat__sex_male\n",
            "- cat__embarked_C\n",
            "- cat__embarked_Q\n",
            "- cat__embarked_S\n",
            "- cat__who_child\n",
            "- cat__who_man\n",
            "- cat__who_woman\n",
            "- cat__adult_male_False\n",
            "- cat__adult_male_True\n",
            "- cat__alone_False\n",
            "- cat__alone_True\n",
            "- cat__deck_A\n",
            "- cat__deck_B\n",
            "- cat__deck_C\n",
            "- cat__deck_D\n",
            "- cat__deck_E\n",
            "- cat__deck_F\n",
            "- cat__deck_G\n",
            "\n",
            "Top 10 coefficients négatifs (associés à '0' = non survie) :\n",
            "cat__who_man : -1.679\n",
            "num__sibsp : -0.686\n",
            "num__pclass : -0.682\n",
            "cat__deck_G : -0.643\n",
            "num__age : -0.312\n",
            "num__parch : -0.294\n",
            "cat__alone_True : -0.286\n",
            "cat__embarked_S : -0.226\n",
            "cat__adult_male_True : -0.221\n",
            "cat__embarked_Q : 0.000\n",
            "\n",
            "Top 10 coefficients positifs (associés à '1' = survie) :\n",
            "cat__deck_E : 1.456\n",
            "cat__deck_D : 1.065\n",
            "cat__deck_F : 0.904\n",
            "cat__adult_male_False : 0.701\n",
            "cat__deck_A : 0.573\n",
            "cat__deck_B : 0.557\n",
            "cat__who_woman : 0.370\n",
            "cat__alone_False : 0.306\n",
            "cat__who_child : 0.229\n",
            "num__fare : 0.144\n"
          ]
        }
      ],
      "source": [
        "# --- Install/Imports (si Colab) ---\n",
        "# !pip install seaborn --quiet\n",
        "\n",
        "import pandas as pd\n",
        "import numpy as np\n",
        "import seaborn as sns\n",
        "\n",
        "from sklearn.model_selection import train_test_split\n",
        "from sklearn.pipeline import Pipeline\n",
        "from sklearn.compose import ColumnTransformer\n",
        "from sklearn.impute import SimpleImputer\n",
        "from sklearn.preprocessing import OneHotEncoder, StandardScaler\n",
        "from sklearn.linear_model import LogisticRegressionCV\n",
        "\n",
        "# 1) Charger Titanic\n",
        "df = sns.load_dataset(\"titanic\").copy()\n",
        "\n",
        "# Variable cible (binaire)\n",
        "y = df[\"survived\"].astype(int)\n",
        "\n",
        "# Choix de quelques features pertinents\n",
        "features = [\n",
        "    \"pclass\", \"sex\", \"age\", \"sibsp\", \"parch\", \"fare\",\n",
        "    \"embarked\", \"who\", \"adult_male\", \"alone\", \"deck\"\n",
        "]\n",
        "X = df[features]\n",
        "\n",
        "# 2) Colonnes numériques/catégorielles\n",
        "num_cols = [\"age\", \"sibsp\", \"parch\", \"fare\", \"pclass\"]\n",
        "cat_cols = [c for c in X.columns if c not in num_cols]\n",
        "\n",
        "# 3) Préprocess (impute + scale pour num, impute + one-hot pour cat)\n",
        "numeric_pipe = Pipeline(steps=[\n",
        "    (\"imputer\", SimpleImputer(strategy=\"median\")),\n",
        "    (\"scaler\", StandardScaler())\n",
        "])\n",
        "categorical_pipe = Pipeline(steps=[\n",
        "    (\"imputer\", SimpleImputer(strategy=\"most_frequent\")),\n",
        "    (\"onehot\", OneHotEncoder(handle_unknown=\"ignore\"))\n",
        "])\n",
        "\n",
        "preprocess = ColumnTransformer(\n",
        "    transformers=[\n",
        "        (\"num\", numeric_pipe, num_cols),\n",
        "        (\"cat\", categorical_pipe, cat_cols),\n",
        "    ]\n",
        ")\n",
        "\n",
        "# 4) Modèle: Logistic Regression L1 avec CV (équivalent \"LASSO\" pour classification)\n",
        "logreg_l1_cv = LogisticRegressionCV(\n",
        "    Cs=10,                # grille de régularisation\n",
        "    cv=5,                 # validation croisée\n",
        "    penalty=\"l1\",\n",
        "    solver=\"liblinear\",   # nécessaire pour L1\n",
        "    scoring=\"accuracy\",\n",
        "    max_iter=2000,\n",
        "    n_jobs=-1,\n",
        "    refit=True\n",
        ")\n",
        "\n",
        "clf = Pipeline(steps=[\n",
        "    (\"preprocess\", preprocess),\n",
        "    (\"model\", logreg_l1_cv)\n",
        "])\n",
        "\n",
        "# 5) Fit\n",
        "clf.fit(X, y)\n",
        "\n",
        "# 6) Récupérer noms de features après OneHot + coefficients\n",
        "feature_names = clf.named_steps[\"preprocess\"].get_feature_names_out()\n",
        "coefs = clf.named_steps[\"model\"].coef_.ravel()  # (1, n_features) pour binaire\n",
        "\n",
        "# 7) Sélection par L1: coef != 0\n",
        "mask = np.abs(coefs) > 1e-8\n",
        "selected_features = feature_names[mask]\n",
        "\n",
        "print(\"Nb features totales :\", len(feature_names))\n",
        "print(\"Nb features sélectionnées (coef != 0) :\", mask.sum())\n",
        "print(\"\\nFeatures sélectionnées :\")\n",
        "for f in selected_features:\n",
        "    print(\"-\", f)\n",
        "\n",
        "# (Optionnel) Top coefficients positifs/négatifs\n",
        "order = np.argsort(coefs)\n",
        "print(\"\\nTop 10 coefficients négatifs (associés à '0' = non survie) :\")\n",
        "for i in order[:10]:\n",
        "    print(f\"{feature_names[i]} : {coefs[i]:.3f}\")\n",
        "\n",
        "print(\"\\nTop 10 coefficients positifs (associés à '1' = survie) :\")\n",
        "for i in order[-10:][::-1]:\n",
        "    print(f\"{feature_names[i]} : {coefs[i]:.3f}\")"
      ]
    },
    {
      "cell_type": "markdown",
      "metadata": {
        "id": "yIYBsDFZ-4Bz"
      },
      "source": [
        "**Matrice de correlation**"
      ]
    },
    {
      "cell_type": "code",
      "execution_count": 5,
      "metadata": {
        "colab": {
          "base_uri": "https://localhost:8080/",
          "height": 545
        },
        "id": "DEBEEjba-yxD",
        "outputId": "558fde04-7477-4415-9952-c813c9b92035"
      },
      "outputs": [
        {
          "data": {
            "image/png": "[encoded data removed]",
            "text/plain": [
              "<Figure size 800x600 with 2 Axes>"
            ]
          },
          "metadata": {},
          "output_type": "display_data"
        }
      ],
      "source": [
        "import seaborn as sns\n",
        "import matplotlib.pyplot as plt\n",
        "import pandas as pd\n",
        "\n",
        "# Charger Titanic dataset depuis seaborn\n",
        "titanic = sns.load_dataset(\"titanic\")\n",
        "\n",
        "# Garder seulement les variables numériques\n",
        "titanic_num = titanic.select_dtypes(include=[\"int64\", \"float64\"])\n",
        "\n",
        "# Calculer matrice de corrélation\n",
        "corr_matrix = titanic_num.corr()\n",
        "\n",
        "# Afficher heatmap\n",
        "plt.figure(figsize=(8,6))\n",
        "sns.heatmap(corr_matrix, annot=True, cmap=\"coolwarm\", center=0, linewidths=0.5)\n",
        "plt.title(\"Matrice de corrélation (Titanic dataset)\")\n",
        "plt.show()"
      ]
    },
    {
      "cell_type": "markdown",
      "metadata": {
        "id": "YeIRr5RQ_8NF"
      },
      "source": [
        "Interprétation (Titanic)\n",
        "\n",
        "Survived (survie)\n",
        "\n",
        "Corrélation -0.34 avec Pclass → plus la classe est élevée (3ème classe), moins de chance de survie.\n",
        "\n",
        "Corrélation +0.26 avec Fare → plus le billet est cher, plus grande chance de survie (les passagers riches étaient mieux sauvés).\n",
        "\n",
        "Corrélation faible avec âge, sibsp, parch → peu de lien direct.\n",
        "\n",
        "*Pclass (classe cabine)*\n",
        "\n",
        "Corrélée -0.55 avec Fare → plus la classe est basse (3ème), moins le billet est cher (logique).\n",
        "\n",
        "Corrélée -0.37 avec Age → en moyenne, les passagers des classes plus élevées étaient plus jeunes.\n",
        "\n",
        "*Age*\n",
        "\n",
        "Corrélée négativement avec SibSp (-0.31) et Parch (-0.19) → les passagers plus jeunes voyageaient plus souvent avec frères/sœurs ou parents.\n",
        "\n",
        "SibSp (frères/sœurs/conjoints à bord) et Parch (parents/enfants à bord)\n",
        "\n",
        "Corrélation +0.41 → normal, si quelqu’un voyage en famille, souvent il a à la fois frères/sœurs ET parents/enfants.\n",
        "\n",
        "*Fare (prix du billet)*\n",
        "\n",
        "Corrélation +0.22 avec Parch et +0.16 avec SibSp → les billets pour familles coûtent plus cher.\n",
        "\n",
        "Corrélation négative forte avec Pclass (-0.55) → les riches payaient plus et étaient en première classe.\n",
        "\n",
        "Résumé:\n",
        "\n",
        "Plus on est en classe haute et billet cher → plus grande probabilité de survie.\n",
        "\n",
        "Les passagers 3ème classe, plus âgés, voyageant seuls → survie plus faible.\n",
        "\n",
        "Les passagers familles + billets chers → survie meilleure."
      ]
    },
    {
      "cell_type": "markdown",
      "metadata": {
        "id": "jdfouUI4Dzbs"
      },
      "source": [
        "**Coefficient selectionnée par LISSO**"
      ]
    },
    {
      "cell_type": "code",
      "execution_count": 6,
      "metadata": {
        "colab": {
          "base_uri": "https://localhost:8080/",
          "height": 420
        },
        "id": "Obv2mgvxD7DH",
        "outputId": "be88724b-2f03-43d4-f8ab-588eb274baf5"
      },
      "outputs": [
        {
          "data": {
            "image/png": "[encoded data removed]",
            "text/plain": [
              "<Figure size 600x400 with 1 Axes>"
            ]
          },
          "metadata": {},
          "output_type": "display_data"
        }
      ],
      "source": [
        "import pandas as pd\n",
        "from sklearn.model_selection import train_test_split\n",
        "from sklearn.linear_model import LassoCV\n",
        "from sklearn.preprocessing import StandardScaler\n",
        "import seaborn as sns\n",
        "import matplotlib.pyplot as plt\n",
        "\n",
        "# Créer un petit dataset Titanic simplifié (features numériques + target survived)\n",
        "data = {\n",
        "    \"pclass\": [3,1,3,1,3,3,1,3,3,2,3,1,3,3,2,3,3,1,3,3],\n",
        "    \"age\": [22,38,26,35,28,2,58,14,20,40,21,19,30,34,28,42,50,18,28,25],\n",
        "    \"sibsp\": [1,1,0,1,0,3,0,1,0,1,0,0,0,1,0,1,1,0,0,0],\n",
        "    \"parch\": [0,0,0,0,0,1,0,0,0,1,0,0,0,0,0,0,1,0,0,0],\n",
        "    \"fare\": [7.25,71.83,7.92,53.1,8.05,21.07,26.55,31.28,7.05,27.72,8.05,30.0,10.5,15.1,13.0,21.0,27.0,80.0,7.9,11.0],\n",
        "    \"survived\": [0,1,1,1,0,1,0,1,0,0,0,1,0,0,0,0,1,1,0,0]\n",
        "}\n",
        "df = pd.DataFrame(data)\n",
        "\n",
        "# Variables explicatives et cible\n",
        "X = df.drop(\"survived\", axis=1)\n",
        "y = df[\"survived\"]\n",
        "\n",
        "# Normaliser les variables (important pour LASSO)\n",
        "scaler = StandardScaler()\n",
        "X_scaled = scaler.fit_transform(X)\n",
        "\n",
        "# LASSO avec validation croisée\n",
        "lasso = LassoCV(cv=5, random_state=0)\n",
        "lasso.fit(X_scaled, y)\n",
        "\n",
        "# Coefficients\n",
        "coef = pd.Series(lasso.coef_, index=X.columns)\n",
        "\n",
        "# Afficher les coefficients\n",
        "plt.figure(figsize=(6,4))\n",
        "coef.plot(kind=\"bar\", color=[\"green\" if c!=0 else \"red\" for c in coef])\n",
        "plt.axhline(0, color=\"black\", linewidth=0.8)\n",
        "plt.title(\"Coefficients sélectionnés par LASSO (Titanic simplifié)\")\n",
        "plt.ylabel(\"Poids du coefficient\")\n",
        "plt.show()"
      ]
    },
    {
      "cell_type": "markdown",
      "metadata": {
        "id": "qA1Ogc2yEEu-"
      },
      "source": [
        "**Intertprétation**"
      ]
    },
    {
      "cell_type": "markdown",
      "metadata": {
        "id": "YM6hZ6zdEJpi"
      },
      "source": [
        "Voilà 🌸 un exemple avec le dataset Titanic simplifié :\n",
        "\n",
        "🔹 Résultat du LASSO\n",
        "\n",
        "Variables retenues (coefficients ≠ 0) :\n",
        "\n",
        "Fare (prix du billet) → 0.173 (la variable la plus importante)\n",
        "\n",
        "SibSp (frères/sœurs à bord) → 0.013 (impact léger mais retenu)\n",
        "\n",
        "Variables éliminées (coeff = 0) :\n",
        "\n",
        "Pclass (classe)\n",
        "\n",
        "Age (âge)\n",
        "\n",
        "Parch (parents/enfants à bord)\n",
        "\n",
        "👉 Donc, dans ce petit échantillon, LASSO a sélectionné seulement 2 variables utiles (Fare et SibSp) pour expliquer la survie, et a mis les autres à zéro.\n",
        "\n",
        "⚡ C’est exactement l’intérêt de LASSO : réduction automatique des variables → il garde ce qui est vraiment pertinent."
      ]
    },
    {
      "cell_type": "markdown",
      "metadata": {
        "id": "hPDA6hclNhRR"
      },
      "source": [
        "**Correlation avec la variable Cible**"
      ]
    },
    {
      "cell_type": "code",
      "execution_count": 7,
      "metadata": {
        "colab": {
          "base_uri": "https://localhost:8080/",
          "height": 537
        },
        "id": "f2EhgemgNlch",
        "outputId": "aff6febf-d7e4-46e1-efbe-02117cd3181d"
      },
      "outputs": [
        {
          "name": "stdout",
          "output_type": "stream",
          "text": [
            "Corrélations avec la cible 'survived' :\n",
            " survived    1.000000\n",
            "fare        0.257307\n",
            "parch       0.081629\n",
            "sibsp      -0.035322\n",
            "age        -0.077221\n",
            "pclass     -0.338481\n",
            "Name: survived, dtype: float64\n"
          ]
        },
        {
          "data": {
            "image/png": "[encoded data removed]",
            "text/plain": [
              "<Figure size 600x400 with 2 Axes>"
            ]
          },
          "metadata": {},
          "output_type": "display_data"
        }
      ],
      "source": [
        "import seaborn as sns\n",
        "import pandas as pd\n",
        "import matplotlib.pyplot as plt\n",
        "\n",
        "# Charger Titanic\n",
        "df = sns.load_dataset(\"titanic\").copy()\n",
        "\n",
        "# Variables numériques + cible\n",
        "num_cols = [\"age\", \"fare\", \"sibsp\", \"parch\", \"pclass\"]\n",
        "corr_matrix = df[num_cols + [\"survived\"]].corr()\n",
        "\n",
        "# Corrélation avec la cible\n",
        "target_corr = corr_matrix[\"survived\"].sort_values(ascending=False)\n",
        "print(\"Corrélations avec la cible 'survived' :\\n\", target_corr)\n",
        "\n",
        "# Visualisation\n",
        "plt.figure(figsize=(6,4))\n",
        "sns.heatmap(corr_matrix, annot=True, cmap=\"coolwarm\", center=0)\n",
        "plt.title(\"Corrélations entre les variables et la cible (survived)\")\n",
        "plt.show()"
      ]
    },
    {
      "cell_type": "markdown",
      "metadata": {
        "id": "oTQOPU5TRKHB"
      },
      "source": [
        "**Interprétation typique (Titanic)**\n",
        "\n",
        "fare (prix du billet) : corrélation positive → plus le prix est élevé, plus la probabilité de survie augmente.\n",
        "\n",
        "pclass (classe du billet) : corrélation négative → les passagers en 1ère classe survivent plus, ceux en 3ème survivent moins.\n",
        "\n",
        "age : très faible corrélation (impact limité).\n",
        "\n",
        "sibsp et parch : corrélations faibles (avoir de la famille à bord joue un petit rôle).\n",
        "\n",
        "**Conclusion :**\n",
        "La corrélation avec la cible est une première étape rapide pour repérer les variables intéressantes, avant de passer à des méthodes plus avancées comme LASSO, arbres de décision, ou mutual information."
      ]
    },
    {
      "cell_type": "markdown",
      "metadata": {
        "id": "F39V0j9Sn61P"
      },
      "source": [
        "**Corrélation des variables catégorielles avec la cible**"
      ]
    },
    {
      "cell_type": "code",
      "execution_count": 8,
      "metadata": {
        "colab": {
          "base_uri": "https://localhost:8080/",
          "height": 682
        },
        "id": "T7qefjE_n3IU",
        "outputId": "30b77557-5d1f-443c-d2bb-67bddfbac4f7"
      },
      "outputs": [
        {
          "name": "stdout",
          "output_type": "stream",
          "text": [
            "Corrélations avec la cible 'survived' :\n",
            " survived      1.000000\n",
            "who_woman     0.506562\n",
            "deck_B        0.175095\n",
            "deck_D        0.150716\n",
            "deck_E        0.145321\n",
            "deck_C        0.114652\n",
            "deck_F        0.057935\n",
            "deck_G        0.016040\n",
            "embarked_Q    0.003650\n",
            "embarked_S   -0.155660\n",
            "alone        -0.203367\n",
            "sex_male     -0.543351\n",
            "who_man      -0.557080\n",
            "adult_male   -0.557080\n",
            "Name: survived, dtype: float64\n"
          ]
        },
        {
          "data": {
            "image/png": "[encoded data removed]",
            "text/plain": [
              "<Figure size 600x400 with 2 Axes>"
            ]
          },
          "metadata": {},
          "output_type": "display_data"
        }
      ],
      "source": [
        "import pandas as pd\n",
        "import seaborn as sns\n",
        "import matplotlib.pyplot as plt\n",
        "\n",
        "# Charger Titanic\n",
        "df = sns.load_dataset(\"titanic\").copy()\n",
        "\n",
        "# Cible\n",
        "y = df[\"survived\"].astype(int)\n",
        "\n",
        "# Variables catégorielles\n",
        "cat_cols = [\"sex\", \"embarked\", \"who\", \"adult_male\", \"alone\", \"deck\"]\n",
        "\n",
        "# OneHotEncoding (création de variables binaires)\n",
        "df_encoded = pd.get_dummies(df[cat_cols], drop_first=True)\n",
        "\n",
        "# Ajout de la cible\n",
        "df_encoded[\"survived\"] = y\n",
        "\n",
        "# Corrélation\n",
        "corr_matrix = df_encoded.corr()\n",
        "target_corr = corr_matrix[\"survived\"].sort_values(ascending=False)\n",
        "print(\"Corrélations avec la cible 'survived' :\\n\", target_corr)\n",
        "\n",
        "# Visualisation heatmap\n",
        "plt.figure(figsize=(6,4))\n",
        "sns.heatmap(corr_matrix[[\"survived\"]].sort_values(by=\"survived\", ascending=False),\n",
        "            annot=True, cmap=\"coolwarm\", center=0)\n",
        "plt.title(\"Corrélations des variables catégorielles avec la survie\")\n",
        "plt.show()"
      ]
    },
    {
      "cell_type": "markdown",
      "metadata": {
        "id": "8RKRv69fn2z_"
      },
      "source": [
        "**Interprétation typique**\n",
        "\n",
        "sex_male → corrélation négative avec survived : être un homme réduit la probabilité de survie.\n",
        "\n",
        "sex_female (corrélée positivement, via encodage) → forte probabilité de survie.\n",
        "\n",
        "embarked_C → souvent corrélé positivement (les passagers embarqués à Cherbourg survivaient plus).\n",
        "\n",
        "alone_True → corrélation négative (les passagers seuls avaient moins de chances de survie).\n",
        "\n",
        "deck_B, deck_C → corrélations positives (ponts supérieurs associés aux classes riches, donc plus de survie).\n",
        "\n",
        "👉 Donc en combinant corrélation numérique et corrélation catégorielle, on obtient une vue complète de quelles variables influencent le plus la survie."
      ]
    },
    {
      "cell_type": "markdown",
      "metadata": {
        "id": "GfwOqrzCsZZq"
      },
      "source": [
        "**Exemple Python (Titanic, classification, stepwise)**\n",
        "\n",
        "Utilise mlxtend SFS (SequentialFeatureSelector) avec LogisticRegression.\n",
        "\n",
        "Idée : on encode les variables catégorielles, on fait une sélection stepwise (forward + floating) avec CV=5 sur l’accuracy"
      ]
    },
    {
      "cell_type": "code",
      "execution_count": 9,
      "metadata": {
        "colab": {
          "base_uri": "https://localhost:8080/"
        },
        "id": "oxrQs3z8sgKx",
        "outputId": "be0f8d88-ddc5-49b0-8995-65bbb317e10c"
      },
      "outputs": [
        {
          "name": "stdout",
          "output_type": "stream",
          "text": [
            "Variables sélectionnées : ['num__age', 'num__sibsp', 'cat__sex_male', 'cat__who_man', 'cat__adult_male_False', 'cat__deck_F']\n"
          ]
        }
      ],
      "source": [
        "import pandas as pd\n",
        "import seaborn as sns\n",
        "from sklearn.pipeline import Pipeline, make_pipeline\n",
        "from sklearn.compose import ColumnTransformer\n",
        "from sklearn.impute import SimpleImputer\n",
        "from sklearn.preprocessing import OneHotEncoder, StandardScaler\n",
        "from sklearn.linear_model import LogisticRegression\n",
        "from mlxtend.feature_selection import SequentialFeatureSelector as SFS\n",
        "\n",
        "# Charger Titanic\n",
        "df = sns.load_dataset(\"titanic\").copy()\n",
        "y = df[\"survived\"].astype(int)\n",
        "\n",
        "# Variables\n",
        "num_cols = [\"pclass\", \"age\", \"sibsp\", \"parch\", \"fare\"]\n",
        "cat_cols = [\"sex\", \"embarked\", \"who\", \"adult_male\", \"alone\", \"deck\"]\n",
        "\n",
        "# Pipelines num + cat\n",
        "num_pipe = Pipeline([\n",
        "    (\"imputer\", SimpleImputer(strategy=\"median\")),\n",
        "    (\"scaler\", StandardScaler()),\n",
        "])\n",
        "cat_pipe = Pipeline([\n",
        "    (\"imputer\", SimpleImputer(strategy=\"most_frequent\")),\n",
        "    (\"onehot\", OneHotEncoder(handle_unknown=\"ignore\"))\n",
        "])\n",
        "\n",
        "preprocess = ColumnTransformer([\n",
        "    (\"num\", num_pipe, num_cols),\n",
        "    (\"cat\", cat_pipe, cat_cols),\n",
        "])\n",
        "\n",
        "# Modèle de base\n",
        "est = LogisticRegression(max_iter=3000, solver=\"liblinear\")\n",
        "\n",
        "# SFS stepwise (forward + floating)\n",
        "X_input = df[num_cols + cat_cols]\n",
        "sfs = SFS(estimator=est,\n",
        "          k_features=(1, X_input.shape[1]),  # borne max = nb de features\n",
        "          forward=True, floating=True,\n",
        "          scoring=\"accuracy\", cv=5, n_jobs=-1)\n",
        "\n",
        "# Pipeline complet\n",
        "pipe = make_pipeline(preprocess, sfs)\n",
        "pipe.fit(X_input, y)\n",
        "\n",
        "# Récupération des variables sélectionnées\n",
        "feat_names = pipe.named_steps[\"columntransformer\"].get_feature_names_out()\n",
        "idx = pipe.named_steps[\"sequentialfeatureselector\"].k_feature_idx_\n",
        "selected = [feat_names[i] for i in idx]\n",
        "\n",
        "print(\"Variables sélectionnées :\", selected)"
      ]
    },
    {
      "cell_type": "markdown",
      "metadata": {
        "id": "q4syFZuAwqgW"
      },
      "source": [
        "**Interprétation**"
      ]
    },
    {
      "cell_type": "markdown",
      "metadata": {
        "id": "zDhhN9h6wc2R"
      },
      "source": [
        "La méthode a cherché quel sous-ensemble de variables maximise l’accuracy.\n",
        "\n",
        "Typiquement, les variables les plus retenues sont :\n",
        "\n",
        "sex_female : être une femme → forte probabilité de survie (priorité donnée aux femmes/enfants).\n",
        "\n",
        "pclass : les passagers en 1ʳᵉ classe avaient plus de chances de survie que ceux de 3ᵉ.\n",
        "\n",
        "fare : billets chers = cabines proches des canots = plus de survie.\n",
        "\n",
        "Parfois embarked_C ou embarked_S → légères influences selon le port d’embarquement.\n",
        "\n",
        "alone : les passagers seuls survivaient moins.\n",
        "\n",
        "Les autres variables (par ex. sibsp, parch, deck_T…) sont souvent rejetées car elles n’améliorent pas l’accuracy.\n",
        "\n",
        "**Conclusion**\n",
        "\n",
        "Ce qu’on a fait = une sélection automatique de variables via une approche pas à pas (stepwise).\n",
        "\n",
        "Objectif = trouver le plus petit ensemble de variables qui donne une prédiction correcte.\n",
        "\n",
        "Avantage = modèle plus simple, plus interprétable.\n",
        "\n",
        "Inconvénient = méthode sensible aux corrélations fortes entre variables (elle peut “hésiter”)."
      ]
    },
    {
      "cell_type": "markdown",
      "metadata": {
        "id": "7eutQQ7i0hP9"
      },
      "source": [
        "**Feature selection** **exemple**"
      ]
    },
    {
      "cell_type": "code",
      "execution_count": 10,
      "metadata": {
        "colab": {
          "base_uri": "https://localhost:8080/"
        },
        "id": "vDvoq32MKzaj",
        "outputId": "5d155c21-b094-4b09-d4f3-01e844616e68"
      },
      "outputs": [
        {
          "name": "stdout",
          "output_type": "stream",
          "text": [
            "Coefficients : [-0.17261488 -0.09746968 -0.04558021  0.03575085  0.03831026]\n",
            "Variables sélectionnées : [np.str_('pclass'), np.str_('age'), np.str_('sibsp'), np.str_('parch'), np.str_('fare')]\n"
          ]
        }
      ],
      "source": [
        "# Charger Titanic\n",
        "df = sns.load_dataset(\"titanic\").copy()\n",
        "\n",
        "# Définir la cible (survie binaire, on la garde float pour Lasso)\n",
        "y = df[\"survived\"].astype(float)\n",
        "\n",
        "\n",
        "# Choix des features numériques uniquement\n",
        "num_cols = [\"pclass\", \"age\", \"sibsp\", \"parch\", \"fare\"]\n",
        "X = df[num_cols]\n",
        "\n",
        "# Prétraitement: imputation des NA + standardisation\n",
        "numeric_pipe = Pipeline(steps=[\n",
        "    (\"imputer\", SimpleImputer(strategy=\"median\")),\n",
        "    (\"scaler\", StandardScaler())\n",
        "])\n",
        "\n",
        "preprocess = ColumnTransformer(\n",
        "    transformers=[(\"num\", numeric_pipe, num_cols)]\n",
        ")\n",
        "\n",
        "# Transformation des données\n",
        "X_transformed = preprocess.fit_transform(X)\n",
        "\n",
        "# --- LASSO ---\n",
        "lasso = LassoCV(cv=5, random_state=0)\n",
        "lasso.fit(X_transformed, y)\n",
        "\n",
        "# Sélection des variables\n",
        "mask = lasso.coef_ != 0\n",
        "selected_features = np.array(num_cols)[mask]\n",
        "\n",
        "print(\"Coefficients :\", lasso.coef_)\n",
        "print(\"Variables sélectionnées :\", list(selected_features))\n"
      ]
    },
    {
      "cell_type": "markdown",
      "metadata": {
        "id": "psX-l1pG0TkP"
      },
      "source": [
        "**Nomalisation**"
      ]
    },
    {
      "cell_type": "code",
      "execution_count": 11,
      "metadata": {
        "colab": {
          "base_uri": "https://localhost:8080/"
        },
        "id": "VYj0R4gW1SpW",
        "outputId": "61ad073a-b267-4fd7-c82f-0e96964467af"
      },
      "outputs": [
        {
          "name": "stdout",
          "output_type": "stream",
          "text": [
            "Normalisation :\n",
            " [[0.         0.        ]\n",
            " [0.16666667 0.0952381 ]\n",
            " [0.52380952 0.61904762]\n",
            " [1.         1.        ]]\n",
            "Standardisation :\n",
            " [[-1.10253232 -1.0569964 ]\n",
            " [-0.66773084 -0.82210831]\n",
            " [ 0.26398661  0.46977618]\n",
            " [ 1.50627656  1.40932853]]\n"
          ]
        }
      ],
      "source": [
        "import pandas as pd\n",
        "from sklearn.preprocessing import MinMaxScaler, StandardScaler\n",
        "\n",
        "# Exemple simple\n",
        "df = pd.DataFrame({\"age\":[18, 25, 40, 60], \"salaire\":[1500, 2500, 8000, 12000]})\n",
        "\n",
        "# Normalisation (0-1)\n",
        "minmax = MinMaxScaler()\n",
        "print(\"Normalisation :\\n\", minmax.fit_transform(df))\n",
        "\n",
        "# Standardisation (moyenne 0, écart-type 1)\n",
        "scaler = StandardScaler()\n",
        "print(\"Standardisation :\\n\", scaler.fit_transform(df))\n",
        "\n"
      ]
    },
    {
      "cell_type": "code",
      "execution_count": 12,
      "metadata": {
        "colab": {
          "base_uri": "https://localhost:8080/"
        },
        "id": "dxoU8JEFxpJm",
        "outputId": "d2260376-82f2-4c23-a296-bffe4be98757"
      },
      "outputs": [
        {
          "name": "stdout",
          "output_type": "stream",
          "text": [
            "   ville_Lyon  ville_Marseille  ville_Paris\n",
            "0       False            False         True\n",
            "1        True            False        False\n",
            "2       False             True        False\n",
            "3       False            False         True\n"
          ]
        }
      ],
      "source": [
        "import pandas as pd\n",
        "\n",
        "df = pd.DataFrame({'ville': ['Paris', 'Lyon', 'Marseille', 'Paris']})\n",
        "\n",
        "# One-hot encoding\n",
        "df_encoded = pd.get_dummies(df, columns=['ville'])\n",
        "\n",
        "print(df_encoded)"
      ]
    },
    {
      "cell_type": "code",
      "execution_count": 13,
      "metadata": {
        "colab": {
          "base_uri": "https://localhost:8080/"
        },
        "id": "RLFKVbCsuSJj",
        "outputId": "f07822df-4674-4688-de5f-1422956b9d0b"
      },
      "outputs": [
        {
          "name": "stdout",
          "output_type": "stream",
          "text": [
            "['ce' 'est' 'je' 'nul' 'parfait' 'produit' 'recommande']\n",
            "[[1 1 0 0 1 1 0]\n",
            " [1 0 1 0 0 1 1]\n",
            " [1 1 0 1 0 1 0]]\n"
          ]
        }
      ],
      "source": [
        "from sklearn.feature_extraction.text import CountVectorizer\n",
        "\n",
        "corpus = [\n",
        "    \"Ce produit est parfait\",\n",
        "    \"Je recommande ce produit\",\n",
        "    \"Ce produit est nul\"\n",
        "]\n",
        "\n",
        "# Créer le vecteur de mots\n",
        "vectorizer = CountVectorizer()\n",
        "X = vectorizer.fit_transform(corpus)\n",
        "\n",
        "# Affichage\n",
        "print(vectorizer.get_feature_names_out())\n",
        "print(X.toarray())\n"
      ]
    },
    {
      "cell_type": "code",
      "execution_count": 14,
      "metadata": {
        "colab": {
          "base_uri": "https://localhost:8080/"
        },
        "id": "XXOYUimr0x-v",
        "outputId": "03385cce-2fdd-4ddc-f1a9-eb5ecadcee55"
      },
      "outputs": [
        {
          "name": "stdout",
          "output_type": "stream",
          "text": [
            "  date_achat  année  mois  jour  jour_semaine\n",
            "0 2020-06-12   2020     6    12             4\n",
            "1 2021-09-15   2021     9    15             2\n",
            "2 2022-01-03   2022     1     3             0\n"
          ]
        }
      ],
      "source": [
        "import pandas as pd\n",
        "\n",
        "# Exemple de DataFrame avec une date\n",
        "df = pd.DataFrame({'date_achat': ['2020-06-12', '2021-09-15', '2022-01-03']})\n",
        "\n",
        "# Conversion en type datetime\n",
        "df['date_achat'] = pd.to_datetime(df['date_achat'])\n",
        "\n",
        "# Extraction de variables temporelles\n",
        "df['année'] = df['date_achat'].dt.year\n",
        "df['mois'] = df['date_achat'].dt.month\n",
        "df['jour'] = df['date_achat'].dt.day\n",
        "df['jour_semaine'] = df['date_achat'].dt.dayofweek  # 0 = lundi, 6 = dimanche\n",
        "\n",
        "print(df)"
      ]
    },
    {
      "cell_type": "markdown",
      "metadata": {
        "id": "b23dUj5M8jZf"
      },
      "source": [
        "**Transformation log**"
      ]
    },
    {
      "cell_type": "code",
      "execution_count": 15,
      "metadata": {
        "colab": {
          "base_uri": "https://localhost:8080/",
          "height": 889
        },
        "id": "uBUaJamd8pWi",
        "outputId": "32813f0f-99cf-40f9-8ee6-66a6f5de3eb9"
      },
      "outputs": [
        {
          "data": {
            "image/png": "[encoded data removed]",
            "text/plain": [
              "<Figure size 640x480 with 1 Axes>"
            ]
          },
          "metadata": {},
          "output_type": "display_data"
        },
        {
          "data": {
            "image/png": "[encoded data removed]",
            "text/plain": [
              "<Figure size 640x480 with 1 Axes>"
            ]
          },
          "metadata": {},
          "output_type": "display_data"
        }
      ],
      "source": [
        "import numpy as np\n",
        "import matplotlib.pyplot as plt\n",
        "\n",
        "# Exemple de variable skewed (salaire, vues, etc.)\n",
        "data = np.random.exponential(scale=2, size=1000)\n",
        "\n",
        "# Avant transformation\n",
        "plt.hist(data, bins=30, color='salmon')\n",
        "plt.title(\"Données originales (skewed)\")\n",
        "plt.show()\n",
        "\n",
        "# Après transformation logarithmique\n",
        "data_log = np.log1p(data)  # log1p(x) = log(1 + x) évite log(0)\n",
        "plt.hist(data_log, bins=30, color='seagreen')\n",
        "plt.title(\"Données après transformation log\")\n",
        "plt.show()\n"
      ]
    },
    {
      "cell_type": "markdown",
      "metadata": {
        "id": "35fJImksAzUt"
      },
      "source": [
        "**Feature engineering**\n",
        "\n",
        "Un petit script Python + pandas qui génère le dataset brut puis applique les étapes de Feature Engineering (extraction de date, regroupement des rares, nouvelle variable, indicateur binaire). Ce que ça fait :\n",
        "\n",
        "*   Convertit date_achat en datetime, puis crée mois et jour_semaine.\n",
        "*   Regroupe les pays rares en \"Autres pays\".\n",
        "*   Crée revenu_par_personne et l’indicateur client_fidele (1 si nb_achats > 3).\n",
        "*   Affiche une vue finale prête pour l’analyse."
      ]
    },
    {
      "cell_type": "code",
      "execution_count": 16,
      "metadata": {
        "colab": {
          "base_uri": "https://localhost:8080/"
        },
        "id": "ei9WtBPP_27t",
        "outputId": "2ea89a73-6add-4cc5-c094-39bc9393a25e"
      },
      "outputs": [
        {
          "name": "stdout",
          "output_type": "stream",
          "text": [
            "=== Dataset transformé ===\n",
            "   id_client  mois jour_semaine     pays_grp  revenu_par_personne  \\\n",
            "0          1     9        Jeudi       France                 1000   \n",
            "1          2     9     Vendredi      Tunisie                  833   \n",
            "2          3     3     Mercredi      Espagne                 1500   \n",
            "3          4    12       Samedi  Autres pays                  400   \n",
            "4          5     6     Dimanche       Italie                  875   \n",
            "\n",
            "   client_fidele  \n",
            "0              1  \n",
            "1              0  \n",
            "2              0  \n",
            "3              1  \n",
            "4              1  \n"
          ]
        }
      ],
      "source": [
        "import pandas as pd\n",
        "\n",
        "# ---------------------------\n",
        "# 1) Dataset brut (exemple)\n",
        "# ---------------------------\n",
        "df = pd.DataFrame({\n",
        "    \"id_client\": [1, 2, 3, 4, 5],\n",
        "    \"date_achat\": [\"2025-09-04\", \"2025-09-05\", \"2025-03-12\", \"2025-12-20\", \"2025-06-15\"],\n",
        "    \"pays\": [\"France\", \"Tunisie\", \"Espagne\", \"Islande\", \"Italie\"],\n",
        "    \"revenu_total\": [4000, 2500, 3000, 2000, 3500],\n",
        "    \"taille_famille\": [4, 3, 2, 5, 4],\n",
        "    \"nb_achats\": [5, 2, 1, 4, 6],\n",
        "})\n",
        "\n",
        "# ---------------------------\n",
        "# 2) Nettoyage / parsing date\n",
        "# ---------------------------\n",
        "df[\"date_achat\"] = pd.to_datetime(df[\"date_achat\"], errors=\"coerce\")\n",
        "\n",
        "# Extraction mois et jour de la semaine (en français)\n",
        "jours_fr = {0:\"Lundi\",1:\"Mardi\",2:\"Mercredi\",3:\"Jeudi\",4:\"Vendredi\",5:\"Samedi\",6:\"Dimanche\"}\n",
        "df[\"mois\"] = df[\"date_achat\"].dt.month\n",
        "df[\"jour_semaine\"] = df[\"date_achat\"].dt.dayofweek.map(jours_fr)\n",
        "\n",
        "# ---------------------------\n",
        "# 3) Regrouper catégories rares\n",
        "# ---------------------------\n",
        "pays_principaux = {\"France\", \"Tunisie\", \"Espagne\", \"Italie\"}\n",
        "df[\"pays_grp\"] = df[\"pays\"].where(df[\"pays\"].isin(pays_principaux), \"Autres pays\")\n",
        "\n",
        "# ---------------------------\n",
        "# 4) Nouvelles variables utiles\n",
        "# ---------------------------\n",
        "df[\"revenu_par_personne\"] = (df[\"revenu_total\"] / df[\"taille_famille\"]).round(0).astype(int)\n",
        "df[\"client_fidele\"] = (df[\"nb_achats\"] > 3).astype(int)\n",
        "\n",
        "# ---------------------------\n",
        "# 5) Vue finale (sélection colonnes)\n",
        "# ---------------------------\n",
        "df_final = df[[\n",
        "    \"id_client\", \"mois\", \"jour_semaine\", \"pays_grp\",\n",
        "    \"revenu_par_personne\", \"client_fidele\"\n",
        "]]\n",
        "\n",
        "print(\"=== Dataset transformé ===\")\n",
        "print(df_final)"
      ]
    },
    {
      "cell_type": "markdown",
      "metadata": {
        "id": "VLyxeFNUPvxG"
      },
      "source": [
        "**Web Scraping**"
      ]
    },
    {
      "cell_type": "code",
      "execution_count": 17,
      "metadata": {
        "colab": {
          "base_uri": "https://localhost:8080/"
        },
        "id": "FzQboKzEPuVh",
        "outputId": "6cfd9386-ef5b-40db-a9c1-2c869f2c7d83"
      },
      "outputs": [
        {
          "name": "stdout",
          "output_type": "stream",
          "text": [
            "=== Dataset initial ===\n",
            "           nom_complet  achats\n",
            "0  Mr. Simon Sivertsen       5\n",
            "1    Mme. Laura Dupont       2\n",
            "2       Dr. John Smith       7 \n",
            "\n",
            "=== Dataset après Feature Engineering ===\n",
            "           nom_complet  achats titre prenom        nom  client_fidele\n",
            "0  Mr. Simon Sivertsen       5   Mr.  Simon  Sivertsen              1\n",
            "1    Mme. Laura Dupont       2  Mme.  Laura     Dupont              0\n",
            "2       Dr. John Smith       7   Dr.   John      Smith              1\n"
          ]
        }
      ],
      "source": [
        "import pandas as pd\n",
        "\n",
        "# Exemple de dataset initial\n",
        "data = {\n",
        "    \"nom_complet\": [\"Mr. Simon Sivertsen\", \"Mme. Laura Dupont\", \"Dr. John Smith\"],\n",
        "    \"achats\": [5, 2, 7]   # nombre d'achats par client\n",
        "}\n",
        "\n",
        "df = pd.DataFrame(data)\n",
        "\n",
        "# 🔹 Afficher le dataset initial\n",
        "print(\"=== Dataset initial ===\")\n",
        "print(df, \"\\n\")\n",
        "\n",
        "# Séparer le titre, prénom et nom\n",
        "df[\"titre\"] = df[\"nom_complet\"].str.split().str[0]      # premier mot\n",
        "df[\"prenom\"] = df[\"nom_complet\"].str.split().str[1]     # deuxième mot\n",
        "df[\"nom\"] = df[\"nom_complet\"].str.split().str[-1]       # dernier mot\n",
        "\n",
        "# Créer une nouvelle variable : client fidèle (1 si >3 achats, 0 sinon)\n",
        "df[\"client_fidele\"] = df[\"achats\"].apply(lambda x: 1 if x > 3 else 0)\n",
        "\n",
        "# 🔹 Afficher le dataset enrichi\n",
        "print(\"=== Dataset après Feature Engineering ===\")\n",
        "print(df)"
      ]
    },
    {
      "cell_type": "markdown",
      "metadata": {
        "id": "smn9n_3XTkYs"
      },
      "source": [
        "Cas réel – enrichir dataset avec Web Scraping\n",
        "\n",
        "1️⃣ Avoir un dataset de base\n",
        "Exemple : tu as un fichier CSV avec juste les noms et emails de clients![Capture d’écran 2025-09-05 115758.png](data:image/png;base64,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)"
      ]
    },
    {
      "cell_type": "markdown",
      "metadata": {
        "id": "sNoPl_nP4wde"
      },
      "source": [
        "2️⃣Choisir un site web public où il y''a des informations complémentaires (exemple : LinkedIn public profiles, annuaire d’entreprises, site e-commerce).\n",
        "Mais il faut toujours vérifier les conditions légales (robots.txt, CGU du site).\n",
        "\n",
        "Écrire un scraper (par ex. avec requests + BeautifulSoup) pour aller chercher automatiquement l’info.\n",
        "Exemple : récupérer la ville et l’entreprise d’une personne depuis un annuaire public.\n",
        "\n",
        "3️⃣ Écrire un scraper (par ex. avec requests + BeautifulSoup) pour aller chercher automatiquement l’info.\n",
        "Exemple : récupérer la ville et l’entreprise d’une personne depuis un annuaire public"
      ]
    },
    {
      "cell_type": "code",
      "execution_count": 18,
      "metadata": {
        "colab": {
          "base_uri": "https://localhost:8080/"
        },
        "id": "Vc7C5iu_60Ba",
        "outputId": "08be8ac3-64de-4081-8926-ba5a16c11c82"
      },
      "outputs": [
        {
          "name": "stdout",
          "output_type": "stream",
          "text": [
            "=== Exemple 1 : HTML simulé ===\n",
            "Ville : Paris\n",
            "Entreprise : DataCorp \n",
            "\n"
          ]
        },
        {
          "ename": "ModuleNotFoundError",
          "evalue": "No module named 'requests'",
          "output_type": "error",
          "traceback": [
            "\u001b[31m---------------------------------------------------------------------------\u001b[39m",
            "\u001b[31mModuleNotFoundError\u001b[39m                       Traceback (most recent call last)",
            "\u001b[36mCell\u001b[39m\u001b[36m \u001b[39m\u001b[32mIn[18]\u001b[39m\u001b[32m, line 23\u001b[39m\n\u001b[32m     20\u001b[39m \u001b[38;5;28mprint\u001b[39m(\u001b[33m\"\u001b[39m\u001b[33mEntreprise :\u001b[39m\u001b[33m\"\u001b[39m, entreprise, \u001b[33m\"\u001b[39m\u001b[38;5;130;01m\\n\u001b[39;00m\u001b[33m\"\u001b[39m)\n\u001b[32m     22\u001b[39m \u001b[38;5;66;03m# Deuxième exemple : Wikipedia\u001b[39;00m\n\u001b[32m---> \u001b[39m\u001b[32m23\u001b[39m \u001b[38;5;28;01mimport\u001b[39;00m\u001b[38;5;250m \u001b[39m\u001b[34;01mrequests\u001b[39;00m\n\u001b[32m     24\u001b[39m \u001b[38;5;28;01mfrom\u001b[39;00m\u001b[38;5;250m \u001b[39m\u001b[34;01mbs4\u001b[39;00m\u001b[38;5;250m \u001b[39m\u001b[38;5;28;01mimport\u001b[39;00m BeautifulSoup\n\u001b[32m     26\u001b[39m url = \u001b[33m\"\u001b[39m\u001b[33mhttps://fr.wikipedia.org/wiki/Paris\u001b[39m\u001b[33m\"\u001b[39m\n",
            "\u001b[31mModuleNotFoundError\u001b[39m: No module named 'requests'"
          ]
        }
      ],
      "source": [
        "# Premier exemple : HTML simulé\n",
        "from bs4 import BeautifulSoup\n",
        "\n",
        "html_doc = \"\"\"\n",
        "<html>\n",
        "  <body>\n",
        "    <span class=\"city\">Paris</span>\n",
        "    <span class=\"company\">DataCorp</span>\n",
        "  </body>\n",
        "</html>\n",
        "\"\"\"\n",
        "\n",
        "soup = BeautifulSoup(html_doc, \"html.parser\")\n",
        "\n",
        "ville = soup.find(\"span\", class_=\"city\").text\n",
        "entreprise = soup.find(\"span\", class_=\"company\").text\n",
        "\n",
        "print(\"=== Exemple 1 : HTML simulé ===\")\n",
        "print(\"Ville :\", ville)\n",
        "print(\"Entreprise :\", entreprise, \"\\n\")\n",
        "\n",
        "# Deuxième exemple : Wikipedia\n",
        "import requests\n",
        "from bs4 import BeautifulSoup\n",
        "\n",
        "url = \"https://fr.wikipedia.org/wiki/Paris\"\n",
        "headers = {\"User-Agent\": \"Mozilla/5.0\"}\n",
        "r = requests.get(url, headers=headers, timeout=10)\n",
        "r.raise_for_status()\n",
        "\n",
        "soup = BeautifulSoup(r.text, \"html.parser\")\n",
        "titre = soup.find(\"h1\").get_text(strip=True)\n",
        "paragraphe = soup.find(\"p\").get_text(strip=True)\n",
        "\n",
        "print(\"=== Exemple 2 : Wikipedia ===\")\n",
        "print(\"Titre :\", titre)\n",
        "print(\"Premier paragraphe :\", paragraphe[:200], \"…\\n\")\n",
        "\n",
        "# Troisième exemple : Quotes to Scrape\n",
        "url = \"https://quotes.toscrape.com/\"\n",
        "r = requests.get(url, timeout=10)\n",
        "r.raise_for_status()\n",
        "\n",
        "soup = BeautifulSoup(r.text, \"html.parser\")\n",
        "quote = soup.select_one(\".quote .text\").get_text(strip=True)\n",
        "author = soup.select_one(\".quote .author\").get_text(strip=True)\n",
        "\n",
        "print(\"=== Exemple 3 : Quotes to Scrape ===\")\n",
        "print(\"Citation :\", quote)\n",
        "print(\"Auteur :\", author)\n"
      ]
    },
    {
      "cell_type": "markdown",
      "metadata": {
        "id": "L7lw5rqyDhDG"
      },
      "source": [
        "4️⃣ Fusionner ces infos avec ton dataset:\n",
        "Ton dataset de 2 colonnes (nom_complet, email) devient 4 colonnes (Exp nom_complet, email, ville, entreprise.\n",
        "\n",
        "**Ce qu'il faut retenir**\n",
        "Dans un cas réel, le web scraping nous permet d’enrichir un dataset existant.\n",
        "Par exemple, si on a uniquement le nom et l’email d’un client, on peut scraper un site public pour récupérer son entreprise, sa ville ou son secteur.\n",
        "Ensuite, on ajoute ces nouvelles colonnes à notre dataset → et ça devient beaucoup plus utile pour le clustering, la segmentation marketing, ou la recommandation."
      ]
    },
    {
      "cell_type": "code",
      "execution_count": null,
      "metadata": {
        "colab": {
          "base_uri": "https://localhost:8080/"
        },
        "id": "Z9vh0aJmKj3a",
        "outputId": "21192a8e-107f-4ca2-e216-df372aafb58a"
      },
      "outputs": [
        {
          "name": "stdout",
          "output_type": "stream",
          "text": [
            "=== Dataset initial ===\n",
            "           nom_complet           email\n",
            "0  Mr. Simon Sivertsen  simon@test.com\n",
            "1    Mme. Laura Dupont  laura@test.com \n",
            "\n",
            "=== Infos scrapées ===\n",
            "   ville     entreprise\n",
            "0  Paris       DataCorp\n",
            "1   Lyon  TechSolutions \n",
            "\n",
            "=== Dataset final enrichi ===\n",
            "           nom_complet           email  ville     entreprise\n",
            "0  Mr. Simon Sivertsen  simon@test.com  Paris       DataCorp\n",
            "1    Mme. Laura Dupont  laura@test.com   Lyon  TechSolutions\n"
          ]
        }
      ],
      "source": [
        "import pandas as pd\n",
        "\n",
        "# Dataset initial\n",
        "data = {\n",
        "    \"nom_complet\": [\"Mr. Simon Sivertsen\", \"Mme. Laura Dupont\"],\n",
        "    \"email\": [\"simon@test.com\", \"laura@test.com\"]\n",
        "}\n",
        "df = pd.DataFrame(data)\n",
        "\n",
        "print(\"=== Dataset initial ===\")\n",
        "print(df, \"\\n\")\n",
        "\n",
        "# Supposons qu'on a scrapé ces infos depuis un site externe :\n",
        "infos_scrapees = {\n",
        "    \"ville\": [\"Paris\", \"Lyon\"],\n",
        "    \"entreprise\": [\"DataCorp\", \"TechSolutions\"]\n",
        "}\n",
        "\n",
        "# Transformer en DataFrame\n",
        "df_scraping = pd.DataFrame(infos_scrapees)\n",
        "\n",
        "print(\"=== Infos scrapées ===\")\n",
        "print(df_scraping, \"\\n\")\n",
        "\n",
        "# Fusion par index (car l'ordre correspond aux mêmes personnes)\n",
        "df_final = pd.concat([df, df_scraping], axis=1)\n",
        "\n",
        "print(\"=== Dataset final enrichi ===\")\n",
        "print(df_final)\n"
      ]
    },
    {
      "cell_type": "markdown",
      "metadata": {
        "id": "7PEA_OMiLWCW"
      },
      "source": [
        ".\n",
        "**-->** Grâce au web scraping, on a récupéré des infos supplémentaires (ville, entreprise).\n",
        "On fusionne les deux tableaux → le dataset final est plus riche, plus exploitable pour le Data Minin"
      ]
    },
    {
      "cell_type": "code",
      "execution_count": null,
      "metadata": {
        "colab": {
          "base_uri": "https://localhost:8080/"
        },
        "id": "rbRsAT7kv0MC",
        "outputId": "3b529138-785e-41c3-946b-7c06532d9c5f"
      },
      "outputs": [
        {
          "data": {
            "text/plain": [
              "2"
            ]
          },
          "execution_count": 1,
          "metadata": {},
          "output_type": "execute_result"
        }
      ],
      "source": [
        "1+1"
      ]
    },
    {
      "cell_type": "markdown",
      "metadata": {
        "id": "v4xp_7OIJISV"
      },
      "source": [
        "**Bonnes pratiques pour le web scraping :**\n",
        "\n",
        "Toujours tester l’URL dans un navigateur avant de coder, pour vérifier que la page existe bien et se charge correctement.\n",
        "\n",
        "Consulter le fichier robots.txt du site ainsi que les Conditions Générales d’Utilisation (CGU) afin de s’assurer que le scraping est autorisé.\n",
        "\n",
        "Adapter les sélecteurs CSS (.city, .company, etc.) en fonction de la structure HTML réelle de la page.\n",
        "\n",
        "Utiliser des en-têtes (headers) comme un User-Agent pour éviter certains blocages.\n",
        "\n",
        "Ajouter un timeout pour ne pas bloquer le script si la page est trop lente.\n",
        "\n",
        "Employer raise_for_status() afin d’obtenir immédiatement une erreur claire en cas de problème HTTP (404, 403, etc.)"
      ]
    },
    {
      "cell_type": "markdown",
      "metadata": {
        "id": "7d_GBWEmHkFK"
      },
      "source": []
    },
    {
      "cell_type": "code",
      "execution_count": null,
      "metadata": {
        "id": "G6KI4eXPUD4M"
      },
      "outputs": [],
      "source": []
    }
  ],
  "metadata": {
    "colab": {
      "include_colab_link": true,
      "provenance": []
    },
    "kernelspec": {
      "display_name": ".venv",
      "language": "python",
      "name": "python3"
    },
    "language_info": {
      "codemirror_mode": {
        "name": "ipython",
        "version": 3
      },
      "file_extension": ".py",
      "mimetype": "text/x-python",
      "name": "python",
      "nbconvert_exporter": "python",
      "pygments_lexer": "ipython3",
      "version": "3.12.3"
    }
  },
  "nbformat": 4,
  "nbformat_minor": 0
}
